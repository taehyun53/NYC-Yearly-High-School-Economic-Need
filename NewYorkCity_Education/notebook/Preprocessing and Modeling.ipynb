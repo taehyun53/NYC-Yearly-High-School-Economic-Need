{
 "cells": [
  {
   "cell_type": "markdown",
   "id": "dd2df0ae-430f-425e-813a-0fe3c33bb6be",
   "metadata": {},
   "source": [
    "# Pre-Processing and Training Data"
   ]
  },
  {
   "cell_type": "markdown",
   "id": "d68a6162-4522-4df8-a1db-93cb1b0a819e",
   "metadata": {},
   "source": [
    "## Remember\n",
    "\n",
    "The purpose of this project is to build a predictive model for Economic index based on school demographics in NYC. This model will be used to provide guidance for NYC's education system plan and aim to decrease economic indexes by borough.\n",
    "\n",
    "\n",
    "\n",
    "\n",
    "\n",
    "\n"
   ]
  },
  {
   "cell_type": "code",
   "execution_count": null,
   "id": "e8a8e2df-0ed2-4af4-9cc2-feb0134516f3",
   "metadata": {},
   "outputs": [],
   "source": [
    "The next step is to \n",
    "\n",
    "1. Load the data\n",
    "\n",
    "\n",
    "2. Split the data \n",
    "\n",
    "\n",
    "3. Scale and ecode data if necessary\n",
    "\n",
    "\n",
    "4. initiate the model \n",
    "\n",
    "\n",
    "5. Create the Pipeline\n",
    "\n",
    "\n",
    "6. fit the pipeline\n",
    "\n",
    "\n",
    "7. Neural Network \n",
    "\n",
    "\n",
    "8. "
   ]
  },
  {
   "cell_type": "code",
   "execution_count": null,
   "id": "db413b93-73d1-4540-9018-d6a900ee5469",
   "metadata": {},
   "outputs": [],
   "source": []
  },
  {
   "cell_type": "code",
   "execution_count": null,
   "id": "8791e404-03d1-4492-bc1e-bbadca610313",
   "metadata": {},
   "outputs": [],
   "source": [
    "import pyspark\n",
    "from pyspark.sql import SparkSession\n"
   ]
  },
  {
   "cell_type": "code",
   "execution_count": null,
   "id": "678a7e9f-4d3c-472c-b409-a72e2e1fd434",
   "metadata": {},
   "outputs": [],
   "source": [
    "spark = SparkSession.builder.master(\"local[1]\") \\\n",
    "                    .appName('SparkByExamples.com') \\\n",
    "                    .config(\"spark.driver.bindAddress\", \"127.0.0.1\") \\\n",
    "                    .getOrCreate()\n"
   ]
  },
  {
   "cell_type": "code",
   "execution_count": 22,
   "id": "fab76ed8-4ed8-4d44-bbd6-c73df67224bc",
   "metadata": {},
   "outputs": [
    {
     "data": {
      "text/html": [
       "\n",
       "        <div>\n",
       "            <p><b>SparkContext</b></p>\n",
       "\n",
       "            <p><a href=\"http://218.38.137.27:4040\">Spark UI</a></p>\n",
       "\n",
       "            <dl>\n",
       "              <dt>Version</dt>\n",
       "                <dd><code>v3.3.1</code></dd>\n",
       "              <dt>Master</dt>\n",
       "                <dd><code>local[1]</code></dd>\n",
       "              <dt>AppName</dt>\n",
       "                <dd><code>SparkByExamples.com</code></dd>\n",
       "            </dl>\n",
       "        </div>\n",
       "        "
      ],
      "text/plain": [
       "<SparkContext master=local[1] appName=SparkByExamples.com>"
      ]
     },
     "execution_count": 22,
     "metadata": {},
     "output_type": "execute_result"
    }
   ],
   "source": [
    "sc = spark.sparkContext\n",
    "sc"
   ]
  },
  {
   "cell_type": "code",
   "execution_count": 23,
   "id": "8b2b0650-1719-4c4d-ac31-e8de5c058eda",
   "metadata": {},
   "outputs": [],
   "source": [
    "sc.stop()"
   ]
  },
  {
   "cell_type": "code",
   "execution_count": null,
   "id": "caebfe41-b66e-41d1-98b1-b1af8ec27215",
   "metadata": {},
   "outputs": [],
   "source": []
  },
  {
   "cell_type": "code",
   "execution_count": null,
   "id": "50d75271-4dfa-40d4-a8da-1032048a5268",
   "metadata": {},
   "outputs": [],
   "source": []
  }
 ],
 "metadata": {
  "kernelspec": {
   "display_name": "Python 3 (ipykernel)",
   "language": "python",
   "name": "python3"
  },
  "language_info": {
   "codemirror_mode": {
    "name": "ipython",
    "version": 3
   },
   "file_extension": ".py",
   "mimetype": "text/x-python",
   "name": "python",
   "nbconvert_exporter": "python",
   "pygments_lexer": "ipython3",
   "version": "3.9.12"
  }
 },
 "nbformat": 4,
 "nbformat_minor": 5
}

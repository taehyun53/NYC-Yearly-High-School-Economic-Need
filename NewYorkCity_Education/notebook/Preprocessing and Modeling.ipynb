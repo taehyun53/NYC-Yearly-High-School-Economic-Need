{
 "cells": [
  {
   "cell_type": "markdown",
   "id": "dd2df0ae-430f-425e-813a-0fe3c33bb6be",
   "metadata": {},
   "source": [
    "# Pre-Processing and Training Data"
   ]
  },
  {
   "cell_type": "markdown",
   "id": "d68a6162-4522-4df8-a1db-93cb1b0a819e",
   "metadata": {},
   "source": [
    "## Remember\n",
    "\n",
    "The purpose of this project is to build a predictive model for Economic index based on school demographics in NYC. This model will be used to provide guidance for NYC's education system plan and aim to decrease economic indexes by borough.\n",
    "\n",
    "\n",
    "\n",
    "\n",
    "\n",
    "\n"
   ]
  },
  {
   "cell_type": "markdown",
   "id": "6bdb93e9-b943-425b-9b11-f0f94a44f991",
   "metadata": {},
   "source": [
    "## The next step is to \n",
    "\n",
    "1. Load the data\n",
    "\n",
    "\n",
    "2. Split the data \n",
    "\n",
    "\n",
    "3. Scale and ecode data if necessary\n",
    "\n",
    "\n",
    "4. initiate the model \n",
    "\n",
    "\n",
    "5. Create the Pipeline\n",
    "\n",
    "\n",
    "6. fit the pipeline\n"
   ]
  },
  {
   "cell_type": "markdown",
   "id": "01f5aef8-9eca-4281-a266-2274f48ea90d",
   "metadata": {},
   "source": [
    "We are going to use PySpark Mlib"
   ]
  },
  {
   "cell_type": "markdown",
   "id": "6c30773b-7016-4049-b55b-5ada65b2af5d",
   "metadata": {},
   "source": [
    "to train and prprocess our model."
   ]
  },
  {
   "cell_type": "markdown",
   "id": "03510c6d-8940-4c21-85f5-f1ce3237e1ba",
   "metadata": {},
   "source": [
    "We are also going to import the libraries we want to use first"
   ]
  },
  {
   "cell_type": "code",
   "execution_count": 590,
   "id": "8791e404-03d1-4492-bc1e-bbadca610313",
   "metadata": {},
   "outputs": [],
   "source": [
    "import pyspark\n",
    "from pyspark.sql import SparkSession\n",
    "import pandas as pd\n",
    "import matplotlib.pyplot as plt\n",
    "import seaborn as sns\n",
    "import numpy as np"
   ]
  },
  {
   "cell_type": "markdown",
   "id": "c6cffd46-7b13-403b-a839-39a6db630573",
   "metadata": {},
   "source": [
    "# Initiate Spark"
   ]
  },
  {
   "cell_type": "code",
   "execution_count": 591,
   "id": "43556fa3-cdcd-40ab-b8a6-85b8e0e7688f",
   "metadata": {},
   "outputs": [],
   "source": [
    "nyc_data_model = pd.read_csv('../data/nyc_data_modeling.csv')"
   ]
  },
  {
   "cell_type": "code",
   "execution_count": 592,
   "id": "678a7e9f-4d3c-472c-b409-a72e2e1fd434",
   "metadata": {},
   "outputs": [],
   "source": [
    "spark = SparkSession.builder.master(\"local[1]\") \\\n",
    "                    .appName('SparkByExamples.com') \\\n",
    "                    .config(\"spark.driver.bindAddress\", \"127.0.0.1\") \\\n",
    "                    .getOrCreate()\n"
   ]
  },
  {
   "cell_type": "code",
   "execution_count": 593,
   "id": "fab76ed8-4ed8-4d44-bbd6-c73df67224bc",
   "metadata": {},
   "outputs": [
    {
     "data": {
      "text/html": [
       "\n",
       "        <div>\n",
       "            <p><b>SparkContext</b></p>\n",
       "\n",
       "            <p><a href=\"http://192.168.99.243:4040\">Spark UI</a></p>\n",
       "\n",
       "            <dl>\n",
       "              <dt>Version</dt>\n",
       "                <dd><code>v3.3.1</code></dd>\n",
       "              <dt>Master</dt>\n",
       "                <dd><code>local[1]</code></dd>\n",
       "              <dt>AppName</dt>\n",
       "                <dd><code>SparkByExamples.com</code></dd>\n",
       "            </dl>\n",
       "        </div>\n",
       "        "
      ],
      "text/plain": [
       "<SparkContext master=local[1] appName=SparkByExamples.com>"
      ]
     },
     "execution_count": 593,
     "metadata": {},
     "output_type": "execute_result"
    }
   ],
   "source": [
    "sc = spark.sparkContext\n",
    "sc"
   ]
  },
  {
   "cell_type": "code",
   "execution_count": 594,
   "id": "8b2b0650-1719-4c4d-ac31-e8de5c058eda",
   "metadata": {},
   "outputs": [],
   "source": [
    "#sc.stop()"
   ]
  },
  {
   "cell_type": "code",
   "execution_count": 595,
   "id": "8ae2a103-de44-4edb-b8da-316bc8371f35",
   "metadata": {},
   "outputs": [
    {
     "name": "stdout",
     "output_type": "stream",
     "text": [
      "Spark Version: 3.3.1\n"
     ]
    }
   ],
   "source": [
    "print(\"Spark Version: {}\".format(sc.version))"
   ]
  },
  {
   "cell_type": "code",
   "execution_count": 596,
   "id": "176e3fd8-b336-408d-8906-bd29d2bbef64",
   "metadata": {},
   "outputs": [
    {
     "name": "stdout",
     "output_type": "stream",
     "text": [
      "Spark Version: 3.9\n"
     ]
    }
   ],
   "source": [
    "print(\"Spark Version: {}\".format(sc.pythonVer))"
   ]
  },
  {
   "cell_type": "code",
   "execution_count": 597,
   "id": "2cd51a26-320a-4120-b3dc-3c93d873df04",
   "metadata": {},
   "outputs": [
    {
     "name": "stdout",
     "output_type": "stream",
     "text": [
      "Spark Version: local[1]\n"
     ]
    }
   ],
   "source": [
    "print(\"Spark Version: {}\".format(sc.master))"
   ]
  },
  {
   "cell_type": "markdown",
   "id": "6d736d79-7a60-4c6a-b2f6-32ecdc99fb7a",
   "metadata": {},
   "source": [
    "# Load data"
   ]
  },
  {
   "cell_type": "code",
   "execution_count": 598,
   "id": "caebfe41-b66e-41d1-98b1-b1af8ec27215",
   "metadata": {},
   "outputs": [],
   "source": [
    "PATH = '../data/nyc_data_modeling.csv'"
   ]
  },
  {
   "cell_type": "code",
   "execution_count": 599,
   "id": "3cb8df95-4ead-44ee-9835-7451c131377d",
   "metadata": {},
   "outputs": [],
   "source": [
    "# Pandas\n",
    "\n",
    "nyc_pandas = pd.read_csv(PATH).iloc[:,1:]"
   ]
  },
  {
   "cell_type": "code",
   "execution_count": 600,
   "id": "bb1ff6cf-c0b3-4883-8382-68b87d1511db",
   "metadata": {},
   "outputs": [],
   "source": [
    "#Spark\n",
    "nyc_spark = spark.read.csv(PATH, header=True, inferSchema=True)"
   ]
  },
  {
   "cell_type": "markdown",
   "id": "34338dea-6ca1-4d24-a137-4bfa5462114a",
   "metadata": {},
   "source": [
    "PySpark makes no such inferences. By default, PySpark will treat the header as the first row and all columns as string variables. To prevent PySpark from making any false assumptions, the user must assign values to the header and inferSchema parameters."
   ]
  },
  {
   "cell_type": "code",
   "execution_count": 601,
   "id": "9e1883f5-205c-4b46-bfe9-5b925405fbf9",
   "metadata": {},
   "outputs": [
    {
     "data": {
      "text/html": [
       "<div>\n",
       "<style scoped>\n",
       "    .dataframe tbody tr th:only-of-type {\n",
       "        vertical-align: middle;\n",
       "    }\n",
       "\n",
       "    .dataframe tbody tr th {\n",
       "        vertical-align: top;\n",
       "    }\n",
       "\n",
       "    .dataframe thead th {\n",
       "        text-align: right;\n",
       "    }\n",
       "</style>\n",
       "<table border=\"1\" class=\"dataframe\">\n",
       "  <thead>\n",
       "    <tr style=\"text-align: right;\">\n",
       "      <th></th>\n",
       "      <th>Year</th>\n",
       "      <th># Male</th>\n",
       "      <th># Asian</th>\n",
       "      <th># Black</th>\n",
       "      <th># Hispanic</th>\n",
       "      <th># Multi-Racial</th>\n",
       "      <th># Native American</th>\n",
       "      <th># White</th>\n",
       "      <th># Missing Race/Ethnicity Data</th>\n",
       "      <th># Students with Disabilities</th>\n",
       "      <th># English Language Learners</th>\n",
       "      <th>Economic Need Index</th>\n",
       "      <th>Borough</th>\n",
       "      <th>District Number</th>\n",
       "      <th>Economic Support</th>\n",
       "      <th>Pre School</th>\n",
       "      <th>Elementary School</th>\n",
       "      <th>Middle School</th>\n",
       "      <th>High School</th>\n",
       "    </tr>\n",
       "  </thead>\n",
       "  <tbody>\n",
       "    <tr>\n",
       "      <th>0</th>\n",
       "      <td>2016-17</td>\n",
       "      <td>95</td>\n",
       "      <td>14</td>\n",
       "      <td>51</td>\n",
       "      <td>105</td>\n",
       "      <td>3</td>\n",
       "      <td>1</td>\n",
       "      <td>4</td>\n",
       "      <td>0</td>\n",
       "      <td>51</td>\n",
       "      <td>12</td>\n",
       "      <td>88.2</td>\n",
       "      <td>Manhattan</td>\n",
       "      <td>1</td>\n",
       "      <td>Need Support</td>\n",
       "      <td>45</td>\n",
       "      <td>133</td>\n",
       "      <td>0</td>\n",
       "      <td>0</td>\n",
       "    </tr>\n",
       "    <tr>\n",
       "      <th>1</th>\n",
       "      <td>2017-18</td>\n",
       "      <td>91</td>\n",
       "      <td>20</td>\n",
       "      <td>52</td>\n",
       "      <td>110</td>\n",
       "      <td>1</td>\n",
       "      <td>1</td>\n",
       "      <td>6</td>\n",
       "      <td>0</td>\n",
       "      <td>49</td>\n",
       "      <td>8</td>\n",
       "      <td>89.0</td>\n",
       "      <td>Manhattan</td>\n",
       "      <td>1</td>\n",
       "      <td>Need Support</td>\n",
       "      <td>45</td>\n",
       "      <td>145</td>\n",
       "      <td>0</td>\n",
       "      <td>0</td>\n",
       "    </tr>\n",
       "    <tr>\n",
       "      <th>2</th>\n",
       "      <td>2018-19</td>\n",
       "      <td>89</td>\n",
       "      <td>24</td>\n",
       "      <td>48</td>\n",
       "      <td>95</td>\n",
       "      <td>0</td>\n",
       "      <td>1</td>\n",
       "      <td>6</td>\n",
       "      <td>0</td>\n",
       "      <td>39</td>\n",
       "      <td>8</td>\n",
       "      <td>88.8</td>\n",
       "      <td>Manhattan</td>\n",
       "      <td>1</td>\n",
       "      <td>Need Support</td>\n",
       "      <td>33</td>\n",
       "      <td>141</td>\n",
       "      <td>0</td>\n",
       "      <td>0</td>\n",
       "    </tr>\n",
       "    <tr>\n",
       "      <th>3</th>\n",
       "      <td>2019-20</td>\n",
       "      <td>96</td>\n",
       "      <td>27</td>\n",
       "      <td>56</td>\n",
       "      <td>96</td>\n",
       "      <td>0</td>\n",
       "      <td>2</td>\n",
       "      <td>9</td>\n",
       "      <td>0</td>\n",
       "      <td>46</td>\n",
       "      <td>17</td>\n",
       "      <td>86.7</td>\n",
       "      <td>Manhattan</td>\n",
       "      <td>1</td>\n",
       "      <td>Need Support</td>\n",
       "      <td>43</td>\n",
       "      <td>147</td>\n",
       "      <td>0</td>\n",
       "      <td>0</td>\n",
       "    </tr>\n",
       "    <tr>\n",
       "      <th>4</th>\n",
       "      <td>2020-21</td>\n",
       "      <td>92</td>\n",
       "      <td>26</td>\n",
       "      <td>53</td>\n",
       "      <td>102</td>\n",
       "      <td>1</td>\n",
       "      <td>0</td>\n",
       "      <td>11</td>\n",
       "      <td>0</td>\n",
       "      <td>43</td>\n",
       "      <td>21</td>\n",
       "      <td>85.6</td>\n",
       "      <td>Manhattan</td>\n",
       "      <td>1</td>\n",
       "      <td>Need Support</td>\n",
       "      <td>46</td>\n",
       "      <td>147</td>\n",
       "      <td>0</td>\n",
       "      <td>0</td>\n",
       "    </tr>\n",
       "  </tbody>\n",
       "</table>\n",
       "</div>"
      ],
      "text/plain": [
       "      Year  # Male  # Asian  # Black  # Hispanic  # Multi-Racial  \\\n",
       "0  2016-17      95       14       51         105               3   \n",
       "1  2017-18      91       20       52         110               1   \n",
       "2  2018-19      89       24       48          95               0   \n",
       "3  2019-20      96       27       56          96               0   \n",
       "4  2020-21      92       26       53         102               1   \n",
       "\n",
       "   # Native American  # White  # Missing Race/Ethnicity Data  \\\n",
       "0                  1        4                              0   \n",
       "1                  1        6                              0   \n",
       "2                  1        6                              0   \n",
       "3                  2        9                              0   \n",
       "4                  0       11                              0   \n",
       "\n",
       "   # Students with Disabilities  # English Language Learners  \\\n",
       "0                            51                           12   \n",
       "1                            49                            8   \n",
       "2                            39                            8   \n",
       "3                            46                           17   \n",
       "4                            43                           21   \n",
       "\n",
       "   Economic Need Index    Borough  District Number Economic Support  \\\n",
       "0                 88.2  Manhattan                1     Need Support   \n",
       "1                 89.0  Manhattan                1     Need Support   \n",
       "2                 88.8  Manhattan                1     Need Support   \n",
       "3                 86.7  Manhattan                1     Need Support   \n",
       "4                 85.6  Manhattan                1     Need Support   \n",
       "\n",
       "   Pre School  Elementary School  Middle School  High School  \n",
       "0          45                133              0            0  \n",
       "1          45                145              0            0  \n",
       "2          33                141              0            0  \n",
       "3          43                147              0            0  \n",
       "4          46                147              0            0  "
      ]
     },
     "execution_count": 601,
     "metadata": {},
     "output_type": "execute_result"
    }
   ],
   "source": [
    "nyc_pandas.head()"
   ]
  },
  {
   "cell_type": "markdown",
   "id": "da3c9419-cb11-4666-8c41-61d24733b336",
   "metadata": {},
   "source": [
    "Since PySpark implements lazy execution, it requires a trigger that derives the results of any operation. In this case, the show function acts as the trigger, letting the user view the loaded dataset."
   ]
  },
  {
   "cell_type": "code",
   "execution_count": 602,
   "id": "8c8f0f62-67cb-44d5-b948-86e881c45672",
   "metadata": {},
   "outputs": [
    {
     "data": {
      "text/html": [
       "<div>\n",
       "<style scoped>\n",
       "    .dataframe tbody tr th:only-of-type {\n",
       "        vertical-align: middle;\n",
       "    }\n",
       "\n",
       "    .dataframe tbody tr th {\n",
       "        vertical-align: top;\n",
       "    }\n",
       "\n",
       "    .dataframe thead th {\n",
       "        text-align: right;\n",
       "    }\n",
       "</style>\n",
       "<table border=\"1\" class=\"dataframe\">\n",
       "  <thead>\n",
       "    <tr style=\"text-align: right;\">\n",
       "      <th></th>\n",
       "      <th># Male</th>\n",
       "      <th># Asian</th>\n",
       "      <th># Black</th>\n",
       "      <th># Hispanic</th>\n",
       "      <th># Multi-Racial</th>\n",
       "      <th># Native American</th>\n",
       "      <th># White</th>\n",
       "      <th># Missing Race/Ethnicity Data</th>\n",
       "      <th># Students with Disabilities</th>\n",
       "      <th># English Language Learners</th>\n",
       "      <th>Economic Need Index</th>\n",
       "      <th>District Number</th>\n",
       "      <th>Pre School</th>\n",
       "      <th>Elementary School</th>\n",
       "      <th>Middle School</th>\n",
       "      <th>High School</th>\n",
       "    </tr>\n",
       "  </thead>\n",
       "  <tbody>\n",
       "    <tr>\n",
       "      <th>count</th>\n",
       "      <td>9169.000000</td>\n",
       "      <td>9169.000000</td>\n",
       "      <td>9169.000000</td>\n",
       "      <td>9169.000000</td>\n",
       "      <td>9169.000000</td>\n",
       "      <td>9169.000000</td>\n",
       "      <td>9169.000000</td>\n",
       "      <td>9169.000000</td>\n",
       "      <td>9169.000000</td>\n",
       "      <td>9169.000000</td>\n",
       "      <td>9169.000000</td>\n",
       "      <td>9169.000000</td>\n",
       "      <td>9169.000000</td>\n",
       "      <td>9169.000000</td>\n",
       "      <td>9169.000000</td>\n",
       "      <td>9169.000000</td>\n",
       "    </tr>\n",
       "    <tr>\n",
       "      <th>mean</th>\n",
       "      <td>301.697241</td>\n",
       "      <td>95.272113</td>\n",
       "      <td>149.827898</td>\n",
       "      <td>239.106009</td>\n",
       "      <td>6.453594</td>\n",
       "      <td>6.534300</td>\n",
       "      <td>86.237321</td>\n",
       "      <td>2.524376</td>\n",
       "      <td>122.522303</td>\n",
       "      <td>80.493620</td>\n",
       "      <td>73.083172</td>\n",
       "      <td>27.062820</td>\n",
       "      <td>60.735304</td>\n",
       "      <td>220.988439</td>\n",
       "      <td>127.866834</td>\n",
       "      <td>176.365034</td>\n",
       "    </tr>\n",
       "    <tr>\n",
       "      <th>std</th>\n",
       "      <td>252.467601</td>\n",
       "      <td>217.404728</td>\n",
       "      <td>166.121062</td>\n",
       "      <td>223.101691</td>\n",
       "      <td>12.272638</td>\n",
       "      <td>14.409499</td>\n",
       "      <td>180.892501</td>\n",
       "      <td>8.999338</td>\n",
       "      <td>97.894632</td>\n",
       "      <td>106.569319</td>\n",
       "      <td>20.205806</td>\n",
       "      <td>26.072237</td>\n",
       "      <td>75.858914</td>\n",
       "      <td>260.187174</td>\n",
       "      <td>266.269458</td>\n",
       "      <td>467.812553</td>\n",
       "    </tr>\n",
       "    <tr>\n",
       "      <th>min</th>\n",
       "      <td>0.000000</td>\n",
       "      <td>0.000000</td>\n",
       "      <td>0.000000</td>\n",
       "      <td>2.000000</td>\n",
       "      <td>0.000000</td>\n",
       "      <td>0.000000</td>\n",
       "      <td>0.000000</td>\n",
       "      <td>0.000000</td>\n",
       "      <td>0.000000</td>\n",
       "      <td>0.000000</td>\n",
       "      <td>5.000000</td>\n",
       "      <td>1.000000</td>\n",
       "      <td>0.000000</td>\n",
       "      <td>0.000000</td>\n",
       "      <td>0.000000</td>\n",
       "      <td>0.000000</td>\n",
       "    </tr>\n",
       "    <tr>\n",
       "      <th>25%</th>\n",
       "      <td>162.000000</td>\n",
       "      <td>5.000000</td>\n",
       "      <td>41.000000</td>\n",
       "      <td>90.000000</td>\n",
       "      <td>1.000000</td>\n",
       "      <td>1.000000</td>\n",
       "      <td>6.000000</td>\n",
       "      <td>0.000000</td>\n",
       "      <td>67.000000</td>\n",
       "      <td>18.000000</td>\n",
       "      <td>63.300000</td>\n",
       "      <td>10.000000</td>\n",
       "      <td>0.000000</td>\n",
       "      <td>0.000000</td>\n",
       "      <td>0.000000</td>\n",
       "      <td>0.000000</td>\n",
       "    </tr>\n",
       "    <tr>\n",
       "      <th>50%</th>\n",
       "      <td>245.000000</td>\n",
       "      <td>17.000000</td>\n",
       "      <td>102.000000</td>\n",
       "      <td>181.000000</td>\n",
       "      <td>2.000000</td>\n",
       "      <td>3.000000</td>\n",
       "      <td>15.000000</td>\n",
       "      <td>0.000000</td>\n",
       "      <td>99.000000</td>\n",
       "      <td>44.000000</td>\n",
       "      <td>79.200000</td>\n",
       "      <td>19.000000</td>\n",
       "      <td>46.000000</td>\n",
       "      <td>153.000000</td>\n",
       "      <td>0.000000</td>\n",
       "      <td>0.000000</td>\n",
       "    </tr>\n",
       "    <tr>\n",
       "      <th>75%</th>\n",
       "      <td>359.000000</td>\n",
       "      <td>81.000000</td>\n",
       "      <td>192.000000</td>\n",
       "      <td>313.000000</td>\n",
       "      <td>7.000000</td>\n",
       "      <td>7.000000</td>\n",
       "      <td>78.000000</td>\n",
       "      <td>1.000000</td>\n",
       "      <td>146.000000</td>\n",
       "      <td>100.000000</td>\n",
       "      <td>88.600000</td>\n",
       "      <td>29.000000</td>\n",
       "      <td>104.000000</td>\n",
       "      <td>389.000000</td>\n",
       "      <td>187.000000</td>\n",
       "      <td>248.000000</td>\n",
       "    </tr>\n",
       "    <tr>\n",
       "      <th>max</th>\n",
       "      <td>3635.000000</td>\n",
       "      <td>3671.000000</td>\n",
       "      <td>1493.000000</td>\n",
       "      <td>2056.000000</td>\n",
       "      <td>181.000000</td>\n",
       "      <td>355.000000</td>\n",
       "      <td>3104.000000</td>\n",
       "      <td>234.000000</td>\n",
       "      <td>925.000000</td>\n",
       "      <td>1168.000000</td>\n",
       "      <td>95.000000</td>\n",
       "      <td>84.000000</td>\n",
       "      <td>1328.000000</td>\n",
       "      <td>1688.000000</td>\n",
       "      <td>2265.000000</td>\n",
       "      <td>6040.000000</td>\n",
       "    </tr>\n",
       "  </tbody>\n",
       "</table>\n",
       "</div>"
      ],
      "text/plain": [
       "            # Male      # Asian      # Black   # Hispanic  # Multi-Racial  \\\n",
       "count  9169.000000  9169.000000  9169.000000  9169.000000     9169.000000   \n",
       "mean    301.697241    95.272113   149.827898   239.106009        6.453594   \n",
       "std     252.467601   217.404728   166.121062   223.101691       12.272638   \n",
       "min       0.000000     0.000000     0.000000     2.000000        0.000000   \n",
       "25%     162.000000     5.000000    41.000000    90.000000        1.000000   \n",
       "50%     245.000000    17.000000   102.000000   181.000000        2.000000   \n",
       "75%     359.000000    81.000000   192.000000   313.000000        7.000000   \n",
       "max    3635.000000  3671.000000  1493.000000  2056.000000      181.000000   \n",
       "\n",
       "       # Native American      # White  # Missing Race/Ethnicity Data  \\\n",
       "count        9169.000000  9169.000000                    9169.000000   \n",
       "mean            6.534300    86.237321                       2.524376   \n",
       "std            14.409499   180.892501                       8.999338   \n",
       "min             0.000000     0.000000                       0.000000   \n",
       "25%             1.000000     6.000000                       0.000000   \n",
       "50%             3.000000    15.000000                       0.000000   \n",
       "75%             7.000000    78.000000                       1.000000   \n",
       "max           355.000000  3104.000000                     234.000000   \n",
       "\n",
       "       # Students with Disabilities  # English Language Learners  \\\n",
       "count                   9169.000000                  9169.000000   \n",
       "mean                     122.522303                    80.493620   \n",
       "std                       97.894632                   106.569319   \n",
       "min                        0.000000                     0.000000   \n",
       "25%                       67.000000                    18.000000   \n",
       "50%                       99.000000                    44.000000   \n",
       "75%                      146.000000                   100.000000   \n",
       "max                      925.000000                  1168.000000   \n",
       "\n",
       "       Economic Need Index  District Number   Pre School  Elementary School  \\\n",
       "count          9169.000000      9169.000000  9169.000000        9169.000000   \n",
       "mean             73.083172        27.062820    60.735304         220.988439   \n",
       "std              20.205806        26.072237    75.858914         260.187174   \n",
       "min               5.000000         1.000000     0.000000           0.000000   \n",
       "25%              63.300000        10.000000     0.000000           0.000000   \n",
       "50%              79.200000        19.000000    46.000000         153.000000   \n",
       "75%              88.600000        29.000000   104.000000         389.000000   \n",
       "max              95.000000        84.000000  1328.000000        1688.000000   \n",
       "\n",
       "       Middle School  High School  \n",
       "count    9169.000000  9169.000000  \n",
       "mean      127.866834   176.365034  \n",
       "std       266.269458   467.812553  \n",
       "min         0.000000     0.000000  \n",
       "25%         0.000000     0.000000  \n",
       "50%         0.000000     0.000000  \n",
       "75%       187.000000   248.000000  \n",
       "max      2265.000000  6040.000000  "
      ]
     },
     "execution_count": 602,
     "metadata": {},
     "output_type": "execute_result"
    }
   ],
   "source": [
    "nyc_pandas.describe()"
   ]
  },
  {
   "cell_type": "code",
   "execution_count": 603,
   "id": "bf1474e0-824a-48ee-a9dc-ee1ed3efffe7",
   "metadata": {},
   "outputs": [
    {
     "name": "stdout",
     "output_type": "stream",
     "text": [
      "22/11/16 14:30:13 WARN CSVHeaderChecker: CSV header does not conform to the schema.\n",
      " Header: , Year, # Male, # Asian, # Black, # Hispanic, # Multi-Racial, # Native American, # White, # Missing Race/Ethnicity Data, # Students with Disabilities, # English Language Learners, Economic Need Index, Borough, District Number, Economic Support, Pre School, Elementary School, Middle School, High School\n",
      " Schema: _c0, Year, # Male, # Asian, # Black, # Hispanic, # Multi-Racial, # Native American, # White, # Missing Race/Ethnicity Data, # Students with Disabilities, # English Language Learners, Economic Need Index, Borough, District Number, Economic Support, Pre School, Elementary School, Middle School, High School\n",
      "Expected: _c0 but found: \n",
      "CSV file: file:///Users/taehyun/Dropbox/Springboard/NYC_Capstone_project/NewYorkCity_Education/data/nyc_data_modeling.csv\n",
      "+-------+-----------------+-------+------------------+------------------+------------------+------------------+------------------+------------------+-----------------+-----------------------------+----------------------------+---------------------------+-------------------+-------------+------------------+----------------+-----------------+------------------+------------------+------------------+\n",
      "|summary|              _c0|   Year|            # Male|           # Asian|           # Black|        # Hispanic|    # Multi-Racial| # Native American|          # White|# Missing Race/Ethnicity Data|# Students with Disabilities|# English Language Learners|Economic Need Index|      Borough|   District Number|Economic Support|       Pre School| Elementary School|     Middle School|       High School|\n",
      "+-------+-----------------+-------+------------------+------------------+------------------+------------------+------------------+------------------+-----------------+-----------------------------+----------------------------+---------------------------+-------------------+-------------+------------------+----------------+-----------------+------------------+------------------+------------------+\n",
      "|  count|             9169|   9169|              9169|              9169|              9169|              9169|              9169|              9169|             9169|                         9169|                        9169|                       9169|               9169|         9169|              9169|            9169|             9169|              9169|              9169|              9169|\n",
      "|   mean|           4584.0|   null| 301.6972407023667| 95.27211255316828|149.82789835314648| 239.1060093794307| 6.453593630712183| 6.534300359908387|86.23732140909587|            2.524375613480205|          122.52230341367652|           80.4936198058676|  73.08317155633117|         null|27.062820372995965|            null|60.73530374086596|220.98843930635837|127.86683389682626| 176.3650343548915|\n",
      "| stddev|2647.006642731874|   null|252.46760059015904|217.40472780464742|166.12106214681873|223.10169074938833|12.272637771915921|14.409499206414809|180.8925013147779|            8.999338266166099|           97.89463234067567|         106.56931940392312|  20.20580555798977|         null| 26.07223699314036|            null|75.85891436727228| 260.1871743649791|266.26945815471714|467.81255326738227|\n",
      "|    min|                0|2016-17|                 0|                 0|                 0|                 2|                 0|                 0|                0|                            0|                           0|                          0|                5.0|        Bronx|                 1|    Need Support|                0|                 0|                 0|                 0|\n",
      "|    max|             9168|2020-21|              3635|              3671|              1493|              2056|               181|               355|             3104|                          234|                         925|                       1168|               95.0|Staten Island|                84|         No Need|             1328|              1688|              2265|              6040|\n",
      "+-------+-----------------+-------+------------------+------------------+------------------+------------------+------------------+------------------+-----------------+-----------------------------+----------------------------+---------------------------+-------------------+-------------+------------------+----------------+-----------------+------------------+------------------+------------------+\n",
      "\n"
     ]
    },
    {
     "name": "stderr",
     "output_type": "stream",
     "text": [
      "                                                                                \r"
     ]
    }
   ],
   "source": [
    "nyc_spark.describe().show()"
   ]
  },
  {
   "cell_type": "markdown",
   "id": "00585544-06d2-443e-a417-98b3623945b3",
   "metadata": {},
   "source": [
    "There is a random column in spark dataframe. Let's get rid of it."
   ]
  },
  {
   "cell_type": "code",
   "execution_count": 604,
   "id": "3dcd2546-1e4e-4d1d-b0bd-6683ae5608d5",
   "metadata": {},
   "outputs": [],
   "source": [
    "nyc_spark = nyc_spark.drop('_c0')"
   ]
  },
  {
   "cell_type": "markdown",
   "id": "eabb6296-5340-46cb-80dd-e0fd65fbc6c0",
   "metadata": {},
   "source": [
    "We can also get rid of the categorical column economic support since we can directly predit the economic need index and deteremine which category it fits. "
   ]
  },
  {
   "cell_type": "code",
   "execution_count": 605,
   "id": "50d75271-4dfa-40d4-a8da-1032048a5268",
   "metadata": {},
   "outputs": [],
   "source": [
    "nyc_spark = nyc_spark.drop('Economic Support')"
   ]
  },
  {
   "cell_type": "code",
   "execution_count": 606,
   "id": "fb73800c-dd6e-4079-abe6-01e498b9e483",
   "metadata": {},
   "outputs": [
    {
     "name": "stdout",
     "output_type": "stream",
     "text": [
      "root\n",
      " |-- Year: string (nullable = true)\n",
      " |-- # Male: integer (nullable = true)\n",
      " |-- # Asian: integer (nullable = true)\n",
      " |-- # Black: integer (nullable = true)\n",
      " |-- # Hispanic: integer (nullable = true)\n",
      " |-- # Multi-Racial: integer (nullable = true)\n",
      " |-- # Native American: integer (nullable = true)\n",
      " |-- # White: integer (nullable = true)\n",
      " |-- # Missing Race/Ethnicity Data: integer (nullable = true)\n",
      " |-- # Students with Disabilities: integer (nullable = true)\n",
      " |-- # English Language Learners: integer (nullable = true)\n",
      " |-- Economic Need Index: double (nullable = true)\n",
      " |-- Borough: string (nullable = true)\n",
      " |-- District Number: integer (nullable = true)\n",
      " |-- Pre School: integer (nullable = true)\n",
      " |-- Elementary School: integer (nullable = true)\n",
      " |-- Middle School: integer (nullable = true)\n",
      " |-- High School: integer (nullable = true)\n",
      "\n",
      "None\n"
     ]
    }
   ],
   "source": [
    "print(nyc_spark.printSchema())"
   ]
  },
  {
   "cell_type": "code",
   "execution_count": 607,
   "id": "b1cf13ef-8f55-4e77-804c-b9818daa9483",
   "metadata": {},
   "outputs": [],
   "source": [
    "columns_to_drop = ['Economic Support']\n",
    "nyc_spark = nyc_spark.drop(*columns_to_drop)\n",
    "nyc_pandas = nyc_pandas.drop(['Economic Support'], axis=1)"
   ]
  },
  {
   "cell_type": "markdown",
   "id": "a16c8c02-2293-4f03-b2c3-2cf837583e6b",
   "metadata": {},
   "source": [
    "### String Indexer -> OHEncode"
   ]
  },
  {
   "cell_type": "code",
   "execution_count": 608,
   "id": "3c29b64f-58ca-4eb5-a7e1-671311194dc3",
   "metadata": {},
   "outputs": [],
   "source": [
    "from pyspark.ml.feature import OneHotEncoder\n",
    "from pyspark.ml.feature import StringIndexer\n",
    "from pyspark.ml.feature import VectorAssembler\n",
    "from pyspark.ml.feature import StandardScaler\n",
    "\n",
    "indexer = StringIndexer(inputCols = ['Borough','District Number','Year'], outputCols = ['Borough_label','District Number_label','Year_label'])\n",
    "nyc_spark_index = indexer.fit(nyc_spark).transform(nyc_spark)"
   ]
  },
  {
   "cell_type": "code",
   "execution_count": 609,
   "id": "b4ec68d6-6304-469a-9aac-ea72d025ffc5",
   "metadata": {},
   "outputs": [],
   "source": [
    "ohe_encoder = OneHotEncoder(inputCols = ['Borough_label','District Number_label','Year_label'], outputCols = ['Borough_ohe','District Number_ohe','Year_ohe'], dropLast = True)\n",
    "ohe_encoder_index = ohe_encoder.fit(nyc_spark_index).transform(nyc_spark_index)"
   ]
  },
  {
   "cell_type": "markdown",
   "id": "6d342ca6-d3d4-468b-9884-243852d92e4e",
   "metadata": {},
   "source": [
    "### Scale the Data"
   ]
  },
  {
   "cell_type": "code",
   "execution_count": 610,
   "id": "d2f14b7a-cc69-45d2-9027-82b61f3a772e",
   "metadata": {},
   "outputs": [],
   "source": [
    "vec_assembler = VectorAssembler(inputCols = ['# Male', '# Asian', '# Black', '# Hispanic', '# Multi-Racial',\n",
    "       '# Native American', '# White', '# Missing Race/Ethnicity Data',\n",
    "       '# Students with Disabilities', '# English Language Learners', 'Pre School',\n",
    "       'Elementary School', 'Middle School', 'High School','Borough_ohe','District Number_ohe','Year_ohe'], outputCol = 'feature')\n",
    "\n",
    "vec_assemb = vec_assembler.transform(ohe_encoder_index)"
   ]
  },
  {
   "cell_type": "code",
   "execution_count": 611,
   "id": "aef81c17-b9ee-479e-ae50-37c032704ed8",
   "metadata": {},
   "outputs": [],
   "source": [
    "scaler = StandardScaler(inputCol='feature', outputCol='feature_scaled', withMean=True, withStd=True)\n",
    "vec_scaled_train = scaler.fit(vec_assemb).transform(vec_assemb)"
   ]
  },
  {
   "cell_type": "markdown",
   "id": "e9224b53-298a-4249-be4e-95fa1b9ae50b",
   "metadata": {},
   "source": [
    "## Split the data"
   ]
  },
  {
   "cell_type": "code",
   "execution_count": 612,
   "id": "cacffcc0-bf10-4fdb-b626-732932552c13",
   "metadata": {},
   "outputs": [],
   "source": [
    "(train_df, test_df) = vec_scaled_train.randomSplit([0.8, 0.2])"
   ]
  },
  {
   "cell_type": "markdown",
   "id": "1f2bb8f8-43c4-4476-9923-5fd8da7c99d0",
   "metadata": {},
   "source": [
    "## Model 1. Linear Regression\n",
    "\n",
    "The model I chose is linear Regression and I chose it since it is a classic regression model with linear algorithm. Simply all the calculation of the functions add up to the dependent variable."
   ]
  },
  {
   "cell_type": "markdown",
   "id": "21e33aa1-bf9c-4b8b-b222-f4a15f49eb51",
   "metadata": {},
   "source": [
    "I am going to use the following parameters and tune it.\n",
    "\n",
    "1. elasticNetParam = 1.0\n",
    "by setting it equal to 1.0, it means that it's lasso regression which is L1.\n",
    "\n",
    "I chose L1 penalization over L2 because I have a lot of outliers in my data set. Since L1 takes the manhattan distance meaning it is penalizing the !absolute value! of the weights so it is more robust to outliers.\n",
    "\n",
    "The down side of L1 would be the case when we have highly correlated features, the L1 norm would select only 1 of the features from the group of correlated features in an arbitrary nature so lasso regression also acts as a feature selector.\n",
    "\n",
    "0.5 would be the mix of L1 and L2.\n",
    "\n",
    "In general, Lasso regression (Linear Regression with L1 regularization) would produce a model that is highly interpretable, and only uses a subset of input features, thus reducing the complexity of the model.\n",
    "\n",
    "2. MaxItr = 100,150,200,250\n",
    "This has no reason. The higher the iteration, prone to overfit. \n",
    "\n",
    "3. regParam\n",
    "This is unknown. We have to try multiple values\n"
   ]
  },
  {
   "cell_type": "code",
   "execution_count": 613,
   "id": "e9abd9e3-b5d6-4c9c-9196-a476c69738cd",
   "metadata": {},
   "outputs": [],
   "source": [
    "metric_list = []"
   ]
  },
  {
   "cell_type": "code",
   "execution_count": 614,
   "id": "a7b44a44-01b9-4fa3-917f-1335a5b726bb",
   "metadata": {},
   "outputs": [],
   "source": [
    "from pyspark.ml.regression import LinearRegression\n",
    "\n",
    "linear_regressor = LinearRegression(featuresCol = 'feature_scaled', labelCol = 'Economic Need Index')"
   ]
  },
  {
   "cell_type": "markdown",
   "id": "4f008fab-16c8-4183-a09a-8fe82ee6ff2f",
   "metadata": {},
   "source": [
    "## Tune the model now"
   ]
  },
  {
   "cell_type": "code",
   "execution_count": 615,
   "id": "a4fcf803-8cf6-405e-9a30-d9877ba809b8",
   "metadata": {},
   "outputs": [],
   "source": [
    "# alpha = 0 - penalty L2\n",
    "paramGrid = (ParamGridBuilder()\n",
    "               .addGrid(linear_regressor.maxIter, [100,150,200,250])\n",
    "               .addGrid(linear_regressor.elasticNetParam, [0.1,0.5,1.0])\n",
    "               .addGrid(linear_regressor.regParam, [0.3,0.6,0.9])\n",
    "               .build())"
   ]
  },
  {
   "cell_type": "code",
   "execution_count": 616,
   "id": "dffa348f-5d85-49bb-9e74-43c7a5ce0512",
   "metadata": {},
   "outputs": [],
   "source": [
    "evaluator = RegressionEvaluator(labelCol=\"Economic Need Index\",\n",
    "                                predictionCol=\"prediction\",\n",
    "                                metricName=\"rmse\")\n",
    "\n",
    "regressorcv = CrossValidator(estimator = linear_regressor,\n",
    "                            estimatorParamMaps = paramGrid,\n",
    "                            evaluator = evaluator,\n",
    "                            numFolds = 5)\n",
    "\n",
    "linear_regression_cv = regressorcv.fit(train_df)"
   ]
  },
  {
   "cell_type": "markdown",
   "id": "eccd58e9-4d5d-4234-9030-8340bb97b058",
   "metadata": {},
   "source": [
    "## Evaluate¶"
   ]
  },
  {
   "cell_type": "code",
   "execution_count": 617,
   "id": "ce471e4b-5210-4b3a-a9b5-8bef7b6da7f1",
   "metadata": {},
   "outputs": [
    {
     "name": "stdout",
     "output_type": "stream",
     "text": [
      "RMSE: 10.644606149925625\n"
     ]
    }
   ],
   "source": [
    "lr_regressor_predictions = linear_regression_cv.transform(test_df)\n",
    "print('RMSE:', evaluator.evaluate(lr_regressor_predictions))\n",
    "metric_list.append(evaluator.evaluate(lr_regressor_predictions))"
   ]
  },
  {
   "cell_type": "markdown",
   "id": "799363e3-2c87-4bd6-832c-836870aed472",
   "metadata": {},
   "source": [
    "### Extra Notes about preprocessing"
   ]
  },
  {
   "cell_type": "markdown",
   "id": "08d7971d-41c4-4c5b-a3bb-bae96bb93ff7",
   "metadata": {},
   "source": [
    "Sparks one hot encoder: have to convert String to index and then convert again to one hot encode.\n",
    "\n",
    "sklearns one hot encoder: converts directly to index from String"
   ]
  },
  {
   "cell_type": "markdown",
   "id": "5141360a-66b2-4297-b734-94339212bd78",
   "metadata": {},
   "source": [
    "so basically, the above solution is splitting the data after encoding and scaling and the bottom solution is I split the data first and encoded. According to the evaluation metrics, the score doesn't have a difference at all. Therefore, I prefer using the top method which contains less code. \n",
    "\n",
    "Steps:\n",
    "Encode -> Scale(Normalize) -> Split -> Model -> Evaluate"
   ]
  },
  {
   "cell_type": "markdown",
   "id": "fb0cc3f7-8ce3-4f30-9a3d-dea0823e8ca6",
   "metadata": {},
   "source": [
    "### Encoding"
   ]
  },
  {
   "cell_type": "code",
   "execution_count": 618,
   "id": "f1e50b5c-7f74-4cd3-bdca-7ff158c0e5f4",
   "metadata": {},
   "outputs": [],
   "source": [
    "#from pyspark.ml.feature import OneHotEncoder\n",
    "#from pyspark.ml.feature import StringIndexer\n",
    "#from pyspark.ml.feature import VectorAssembler\n",
    "#from pyspark.ml.feature import StandardScaler\n",
    "\n",
    "#indexer = StringIndexer(inputCols = ['Borough','District Number','Year'], outputCols = ['Borough_label','District Number_label','Year_label'])\n",
    "#label_df_train = indexer.fit(train_df).transform(train_df)\n",
    "#label_df_test = indexer.fit(test_df).transform(test_df)"
   ]
  },
  {
   "cell_type": "code",
   "execution_count": 619,
   "id": "e913af53-341e-4115-acc4-f0b4c33119e0",
   "metadata": {},
   "outputs": [],
   "source": [
    "#ohe_encoder = OneHotEncoder(inputCols = ['Borough_label','District Number_label','Year_label'], outputCols = ['Borough_ohe','District Number_ohe','Year_ohe'], dropLast = True)\n",
    "#encoding_df_train = ohe_encoder.fit(label_df_train).transform(label_df_train)\n",
    "#encoding_df_test = ohe_encoder.fit(label_df_test).transform(label_df_test)"
   ]
  },
  {
   "cell_type": "markdown",
   "id": "0e2af132-28c1-45a9-bee2-9d6a073601fb",
   "metadata": {},
   "source": [
    "### Scaling"
   ]
  },
  {
   "cell_type": "markdown",
   "id": "4506465f-21a8-4622-979f-590c64a2987b",
   "metadata": {},
   "source": [
    "In spark, when we scale, we have to perform vectorAssembler to perform Feature Vectorization meaning all the columns should be vectorized. "
   ]
  },
  {
   "cell_type": "code",
   "execution_count": 620,
   "id": "4cc94567-8e7a-4188-8985-d1bcad182b6a",
   "metadata": {},
   "outputs": [],
   "source": [
    "#vec_assembler = VectorAssembler(inputCols = ['# Male', '# Asian', '# Black', '# Hispanic', '# Multi-Racial',\n",
    "       #'# Native American', '# White', '# Missing Race/Ethnicity Data',\n",
    "       #'# Students with Disabilities', '# English Language Learners', 'Pre School',\n",
    "       #'Elementary School', 'Middle School', 'High School','Borough_ohe','District Number_ohe','Year_ohe'], outputCol = 'feature')\n",
    "\n",
    "#vec_assemb_train = vec_assembler.transform(encoding_df_train)\n",
    "#vec_assemb_test = vec_assembler.transform(encoding_df_test)"
   ]
  },
  {
   "cell_type": "code",
   "execution_count": 621,
   "id": "6f0e9af1-6cb0-4247-a42f-bf71e3dcd4e8",
   "metadata": {},
   "outputs": [],
   "source": [
    "#scaler = StandardScaler(inputCol='feature', outputCol='feature_scaled', withMean=True, withStd=True)\n",
    "#vec_scaled_train = scaler.fit(vec_assemb).transform(vec_assemb_train)\n",
    "#vec_scaled_test = scaler.fit(vec_assemb).transform(vec_assemb_test)"
   ]
  },
  {
   "cell_type": "markdown",
   "id": "d792bbcc-a011-499a-b8fd-eac396f4031b",
   "metadata": {},
   "source": [
    "### Create Model"
   ]
  },
  {
   "cell_type": "code",
   "execution_count": 622,
   "id": "5ce2742e-0e32-469d-85b0-c7c5968542af",
   "metadata": {},
   "outputs": [],
   "source": [
    "#from pyspark.ml.regression import LinearRegression\n",
    "\n",
    "#regressor = LinearRegression(featuresCol = 'feature_scaled', labelCol = 'Economic Need Index')"
   ]
  },
  {
   "cell_type": "code",
   "execution_count": 623,
   "id": "8b8ee054-0d7d-44c4-beb4-359e3b8a6741",
   "metadata": {},
   "outputs": [],
   "source": [
    "#linear_model = regressor.fit(vec_scaled_train)"
   ]
  },
  {
   "cell_type": "code",
   "execution_count": 624,
   "id": "0a017994-ae5f-49f6-931a-2edf9f8130fd",
   "metadata": {},
   "outputs": [],
   "source": [
    "#print(\"Coefficients: \" + str(linear_model.coefficients))\n",
    "#print(\"\\nIntercept: \" + str(linear_model.intercept))\n",
    "#trainSummary = linear_model.summary\n",
    "#print(\"RMSE: %f\" % trainSummary.rootMeanSquaredError)\n",
    "#print(\"\\nr2: %f\" % trainSummary.r2)"
   ]
  },
  {
   "cell_type": "code",
   "execution_count": 625,
   "id": "03b3eaec-9ce0-40c4-a2f0-03e28e687f0a",
   "metadata": {},
   "outputs": [],
   "source": [
    "#pred = linear_model.evaluate(vec_scaled_test)\n",
    "#pred.predictions.toPandas().iloc[:,10:].head()"
   ]
  },
  {
   "cell_type": "code",
   "execution_count": 626,
   "id": "b97bcbfe-80f0-4a5e-a794-2c8fb68ce450",
   "metadata": {},
   "outputs": [],
   "source": [
    "#print('‘MAE for test set:’', pred.meanAbsoluteError)\n",
    "#print('MSE for test set:', pred.meanSquaredError)\n",
    "#print('RMSE for test set:', pred.rootMeanSquaredError)\n",
    "#print('R2-Score for test set:', pred.r2)"
   ]
  },
  {
   "cell_type": "markdown",
   "id": "43571381-c6e3-45b1-965e-2cf61f193d36",
   "metadata": {},
   "source": [
    "### Model 2: Decision tree Regression"
   ]
  },
  {
   "cell_type": "markdown",
   "id": "4a7d946a-f269-4799-803b-304644a0bc9f",
   "metadata": {},
   "source": [
    "I chose Decision tree Regression because it is"
   ]
  },
  {
   "cell_type": "code",
   "execution_count": 627,
   "id": "8345e1b1-2d6f-4bb7-a320-a7f7b7497d42",
   "metadata": {},
   "outputs": [],
   "source": [
    "from pyspark.ml.regression import DecisionTreeRegressor\n",
    "from pyspark.ml.evaluation import RegressionEvaluator\n",
    "\n",
    "regressor = DecisionTreeRegressor(featuresCol = 'feature_scaled', labelCol = 'Economic Need Index')"
   ]
  },
  {
   "cell_type": "markdown",
   "id": "6b5cc736-cc1f-42fa-9a4e-ad25e35481dc",
   "metadata": {},
   "source": [
    "## Binning feature values\n",
    "\n",
    "Increasing maxBins allows the algorithm to consider more split candidates and make fine-grained split decisions. However, it also increases computation and communication.\n",
    "\n",
    "Note that the maxBins parameter must be at least the maximum number of categories M for any categorical feature."
   ]
  },
  {
   "cell_type": "markdown",
   "id": "98ad8fb2-2df0-46f6-8aa3-c90c6918af68",
   "metadata": {},
   "source": [
    "### Max depth\n",
    "\n",
    "Increasing the depth leads to overfitting since it increases its complexity. "
   ]
  },
  {
   "cell_type": "markdown",
   "id": "6f32627e-5d6a-4231-93c4-923b0ea43d06",
   "metadata": {},
   "source": [
    "## Tuning the model"
   ]
  },
  {
   "cell_type": "code",
   "execution_count": 628,
   "id": "dc12916e-43b3-40ac-ab31-47af4c090c6c",
   "metadata": {},
   "outputs": [],
   "source": [
    "from pyspark.ml.tuning import CrossValidator, ParamGridBuilder\n",
    "paramGrid = (ParamGridBuilder()\n",
    "               .addGrid(regressor.maxDepth, [2,5,10,2,30])\n",
    "               .addGrid(regressor.maxBins, [10,20,40,80,100])\n",
    "               .build())"
   ]
  },
  {
   "cell_type": "markdown",
   "id": "b2bf8cf6-9cdc-4eaf-8a43-b2514fe81cd0",
   "metadata": {},
   "source": [
    "### Evaluation"
   ]
  },
  {
   "cell_type": "code",
   "execution_count": 629,
   "id": "5cd48072-e0bd-4de2-aa94-7c2d3c687b14",
   "metadata": {},
   "outputs": [],
   "source": [
    "evaluator = RegressionEvaluator(labelCol=\"Economic Need Index\",\n",
    "                                predictionCol=\"prediction\",\n",
    "                                metricName=\"rmse\")\n",
    "\n",
    "regressorcv = CrossValidator(estimator = regressor,\n",
    "                            estimatorParamMaps = paramGrid,\n",
    "                            evaluator = evaluator,\n",
    "                            numFolds = 5)\n"
   ]
  },
  {
   "cell_type": "code",
   "execution_count": 630,
   "id": "2a2ed41a-aad4-4b3e-8bf7-0eab15b03b2f",
   "metadata": {},
   "outputs": [
    {
     "name": "stdout",
     "output_type": "stream",
     "text": [
      "22/11/16 14:31:23 WARN DAGScheduler: Broadcasting large task binary with size 1041.2 KiB\n",
      "22/11/16 14:31:23 WARN DAGScheduler: Broadcasting large task binary with size 1159.5 KiB\n",
      "22/11/16 14:31:24 WARN DAGScheduler: Broadcasting large task binary with size 1265.0 KiB\n",
      "22/11/16 14:31:24 WARN DAGScheduler: Broadcasting large task binary with size 1354.4 KiB\n",
      "22/11/16 14:31:24 WARN DAGScheduler: Broadcasting large task binary with size 1434.3 KiB\n",
      "22/11/16 14:31:24 WARN DAGScheduler: Broadcasting large task binary with size 1502.8 KiB\n",
      "22/11/16 14:31:25 WARN DAGScheduler: Broadcasting large task binary with size 1561.0 KiB\n",
      "22/11/16 14:31:25 WARN DAGScheduler: Broadcasting large task binary with size 1608.6 KiB\n",
      "22/11/16 14:31:25 WARN DAGScheduler: Broadcasting large task binary with size 1648.2 KiB\n",
      "22/11/16 14:31:25 WARN DAGScheduler: Broadcasting large task binary with size 1676.1 KiB\n",
      "22/11/16 14:31:25 WARN DAGScheduler: Broadcasting large task binary with size 1694.7 KiB\n",
      "22/11/16 14:31:26 WARN DAGScheduler: Broadcasting large task binary with size 1706.3 KiB\n",
      "22/11/16 14:31:26 WARN DAGScheduler: Broadcasting large task binary with size 1712.7 KiB\n",
      "22/11/16 14:31:26 WARN DAGScheduler: Broadcasting large task binary with size 1715.3 KiB\n",
      "22/11/16 14:31:26 WARN DAGScheduler: Broadcasting large task binary with size 1716.8 KiB\n",
      "22/11/16 14:31:26 WARN DAGScheduler: Broadcasting large task binary with size 1062.8 KiB\n",
      "22/11/16 14:31:29 WARN DAGScheduler: Broadcasting large task binary with size 1051.9 KiB\n",
      "22/11/16 14:31:29 WARN DAGScheduler: Broadcasting large task binary with size 1174.1 KiB\n",
      "22/11/16 14:31:29 WARN DAGScheduler: Broadcasting large task binary with size 1274.1 KiB\n",
      "22/11/16 14:31:29 WARN DAGScheduler: Broadcasting large task binary with size 1357.6 KiB\n",
      "22/11/16 14:31:30 WARN DAGScheduler: Broadcasting large task binary with size 1431.0 KiB\n",
      "22/11/16 14:31:30 WARN DAGScheduler: Broadcasting large task binary with size 1494.6 KiB\n",
      "22/11/16 14:31:30 WARN DAGScheduler: Broadcasting large task binary with size 1547.9 KiB\n",
      "22/11/16 14:31:30 WARN DAGScheduler: Broadcasting large task binary with size 1591.1 KiB\n",
      "22/11/16 14:31:30 WARN DAGScheduler: Broadcasting large task binary with size 1627.1 KiB\n",
      "22/11/16 14:31:31 WARN DAGScheduler: Broadcasting large task binary with size 1655.6 KiB\n",
      "22/11/16 14:31:31 WARN DAGScheduler: Broadcasting large task binary with size 1675.4 KiB\n",
      "22/11/16 14:31:31 WARN DAGScheduler: Broadcasting large task binary with size 1690.3 KiB\n",
      "22/11/16 14:31:31 WARN DAGScheduler: Broadcasting large task binary with size 1701.6 KiB\n",
      "22/11/16 14:31:31 WARN DAGScheduler: Broadcasting large task binary with size 1709.3 KiB\n",
      "22/11/16 14:31:31 WARN DAGScheduler: Broadcasting large task binary with size 1713.0 KiB\n",
      "22/11/16 14:31:31 WARN DAGScheduler: Broadcasting large task binary with size 1065.1 KiB\n",
      "22/11/16 14:31:34 WARN DAGScheduler: Broadcasting large task binary with size 1003.1 KiB\n",
      "22/11/16 14:31:35 WARN DAGScheduler: Broadcasting large task binary with size 1116.2 KiB\n",
      "22/11/16 14:31:35 WARN DAGScheduler: Broadcasting large task binary with size 1219.2 KiB\n",
      "22/11/16 14:31:35 WARN DAGScheduler: Broadcasting large task binary with size 1310.3 KiB\n",
      "22/11/16 14:31:35 WARN DAGScheduler: Broadcasting large task binary with size 1385.5 KiB\n",
      "22/11/16 14:31:36 WARN DAGScheduler: Broadcasting large task binary with size 1458.5 KiB\n",
      "22/11/16 14:31:36 WARN DAGScheduler: Broadcasting large task binary with size 1524.7 KiB\n",
      "22/11/16 14:31:36 WARN DAGScheduler: Broadcasting large task binary with size 1581.2 KiB\n",
      "22/11/16 14:31:37 WARN DAGScheduler: Broadcasting large task binary with size 1627.3 KiB\n",
      "22/11/16 14:31:37 WARN DAGScheduler: Broadcasting large task binary with size 1658.2 KiB\n",
      "22/11/16 14:31:37 WARN DAGScheduler: Broadcasting large task binary with size 1680.0 KiB\n",
      "22/11/16 14:31:37 WARN DAGScheduler: Broadcasting large task binary with size 1695.4 KiB\n",
      "22/11/16 14:31:37 WARN DAGScheduler: Broadcasting large task binary with size 1704.7 KiB\n",
      "22/11/16 14:31:37 WARN DAGScheduler: Broadcasting large task binary with size 1711.1 KiB\n",
      "22/11/16 14:31:38 WARN DAGScheduler: Broadcasting large task binary with size 1716.1 KiB\n",
      "22/11/16 14:31:38 WARN DAGScheduler: Broadcasting large task binary with size 1069.1 KiB\n",
      "22/11/16 14:31:42 WARN DAGScheduler: Broadcasting large task binary with size 1019.2 KiB\n",
      "22/11/16 14:31:42 WARN DAGScheduler: Broadcasting large task binary with size 1142.0 KiB\n",
      "22/11/16 14:31:43 WARN DAGScheduler: Broadcasting large task binary with size 1252.1 KiB\n",
      "22/11/16 14:31:43 WARN DAGScheduler: Broadcasting large task binary with size 1344.3 KiB\n",
      "22/11/16 14:31:44 WARN DAGScheduler: Broadcasting large task binary with size 1422.0 KiB\n",
      "22/11/16 14:31:44 WARN DAGScheduler: Broadcasting large task binary with size 1489.6 KiB\n",
      "22/11/16 14:31:45 WARN DAGScheduler: Broadcasting large task binary with size 1547.2 KiB\n",
      "22/11/16 14:31:45 WARN DAGScheduler: Broadcasting large task binary with size 1593.3 KiB\n",
      "22/11/16 14:31:45 WARN DAGScheduler: Broadcasting large task binary with size 1630.4 KiB\n",
      "22/11/16 14:31:45 WARN DAGScheduler: Broadcasting large task binary with size 1657.8 KiB\n",
      "22/11/16 14:31:46 WARN DAGScheduler: Broadcasting large task binary with size 1680.5 KiB\n",
      "22/11/16 14:31:46 WARN DAGScheduler: Broadcasting large task binary with size 1697.6 KiB\n",
      "22/11/16 14:31:46 WARN DAGScheduler: Broadcasting large task binary with size 1709.2 KiB\n",
      "22/11/16 14:31:46 WARN DAGScheduler: Broadcasting large task binary with size 1716.7 KiB\n",
      "22/11/16 14:31:46 WARN DAGScheduler: Broadcasting large task binary with size 1722.1 KiB\n",
      "22/11/16 14:31:47 WARN DAGScheduler: Broadcasting large task binary with size 1076.0 KiB\n"
     ]
    },
    {
     "name": "stderr",
     "output_type": "stream",
     "text": [
      "                                                                                \r"
     ]
    },
    {
     "name": "stdout",
     "output_type": "stream",
     "text": [
      "22/11/16 14:31:51 WARN DAGScheduler: Broadcasting large task binary with size 1043.7 KiB\n",
      "22/11/16 14:31:52 WARN DAGScheduler: Broadcasting large task binary with size 1166.3 KiB\n",
      "22/11/16 14:31:52 WARN DAGScheduler: Broadcasting large task binary with size 1267.0 KiB\n",
      "22/11/16 14:31:53 WARN DAGScheduler: Broadcasting large task binary with size 1354.5 KiB\n",
      "22/11/16 14:31:53 WARN DAGScheduler: Broadcasting large task binary with size 1424.9 KiB\n",
      "22/11/16 14:31:54 WARN DAGScheduler: Broadcasting large task binary with size 1483.2 KiB\n",
      "22/11/16 14:31:54 WARN DAGScheduler: Broadcasting large task binary with size 1533.6 KiB\n",
      "22/11/16 14:31:54 WARN DAGScheduler: Broadcasting large task binary with size 1579.0 KiB\n",
      "22/11/16 14:31:55 WARN DAGScheduler: Broadcasting large task binary with size 1618.4 KiB\n",
      "22/11/16 14:31:55 WARN DAGScheduler: Broadcasting large task binary with size 1649.8 KiB\n",
      "22/11/16 14:31:55 WARN DAGScheduler: Broadcasting large task binary with size 1678.0 KiB\n",
      "22/11/16 14:31:55 WARN DAGScheduler: Broadcasting large task binary with size 1698.9 KiB\n",
      "22/11/16 14:31:56 WARN DAGScheduler: Broadcasting large task binary with size 1714.6 KiB\n",
      "22/11/16 14:31:56 WARN DAGScheduler: Broadcasting large task binary with size 1725.7 KiB\n",
      "22/11/16 14:31:56 WARN DAGScheduler: Broadcasting large task binary with size 1732.8 KiB\n",
      "22/11/16 14:31:56 WARN DAGScheduler: Broadcasting large task binary with size 1079.8 KiB\n",
      "22/11/16 14:32:15 WARN DAGScheduler: Broadcasting large task binary with size 1100.1 KiB\n",
      "22/11/16 14:32:15 WARN DAGScheduler: Broadcasting large task binary with size 1207.0 KiB\n",
      "22/11/16 14:32:15 WARN DAGScheduler: Broadcasting large task binary with size 1297.2 KiB\n",
      "22/11/16 14:32:15 WARN DAGScheduler: Broadcasting large task binary with size 1373.4 KiB\n",
      "22/11/16 14:32:16 WARN DAGScheduler: Broadcasting large task binary with size 1443.1 KiB\n",
      "22/11/16 14:32:16 WARN DAGScheduler: Broadcasting large task binary with size 1506.6 KiB\n",
      "22/11/16 14:32:16 WARN DAGScheduler: Broadcasting large task binary with size 1558.6 KiB\n",
      "22/11/16 14:32:16 WARN DAGScheduler: Broadcasting large task binary with size 1600.3 KiB\n",
      "22/11/16 14:32:16 WARN DAGScheduler: Broadcasting large task binary with size 1631.6 KiB\n",
      "22/11/16 14:32:16 WARN DAGScheduler: Broadcasting large task binary with size 1653.0 KiB\n",
      "22/11/16 14:32:17 WARN DAGScheduler: Broadcasting large task binary with size 1666.7 KiB\n",
      "22/11/16 14:32:17 WARN DAGScheduler: Broadcasting large task binary with size 1676.3 KiB\n",
      "22/11/16 14:32:17 WARN DAGScheduler: Broadcasting large task binary with size 1681.9 KiB\n",
      "22/11/16 14:32:17 WARN DAGScheduler: Broadcasting large task binary with size 1684.0 KiB\n",
      "22/11/16 14:32:17 WARN DAGScheduler: Broadcasting large task binary with size 1045.4 KiB\n",
      "22/11/16 14:32:20 WARN DAGScheduler: Broadcasting large task binary with size 1087.9 KiB\n",
      "22/11/16 14:32:20 WARN DAGScheduler: Broadcasting large task binary with size 1197.3 KiB\n",
      "22/11/16 14:32:20 WARN DAGScheduler: Broadcasting large task binary with size 1286.0 KiB\n",
      "22/11/16 14:32:20 WARN DAGScheduler: Broadcasting large task binary with size 1367.7 KiB\n",
      "22/11/16 14:32:21 WARN DAGScheduler: Broadcasting large task binary with size 1432.0 KiB\n",
      "22/11/16 14:32:21 WARN DAGScheduler: Broadcasting large task binary with size 1485.2 KiB\n",
      "22/11/16 14:32:21 WARN DAGScheduler: Broadcasting large task binary with size 1525.8 KiB\n",
      "22/11/16 14:32:21 WARN DAGScheduler: Broadcasting large task binary with size 1563.0 KiB\n",
      "22/11/16 14:32:21 WARN DAGScheduler: Broadcasting large task binary with size 1592.1 KiB\n",
      "22/11/16 14:32:21 WARN DAGScheduler: Broadcasting large task binary with size 1615.9 KiB\n",
      "22/11/16 14:32:22 WARN DAGScheduler: Broadcasting large task binary with size 1636.4 KiB\n",
      "22/11/16 14:32:22 WARN DAGScheduler: Broadcasting large task binary with size 1654.8 KiB\n",
      "22/11/16 14:32:22 WARN DAGScheduler: Broadcasting large task binary with size 1667.1 KiB\n",
      "22/11/16 14:32:22 WARN DAGScheduler: Broadcasting large task binary with size 1675.0 KiB\n",
      "22/11/16 14:32:22 WARN DAGScheduler: Broadcasting large task binary with size 1046.0 KiB\n",
      "22/11/16 14:32:25 WARN DAGScheduler: Broadcasting large task binary with size 1105.1 KiB\n",
      "22/11/16 14:32:26 WARN DAGScheduler: Broadcasting large task binary with size 1210.1 KiB\n",
      "22/11/16 14:32:26 WARN DAGScheduler: Broadcasting large task binary with size 1300.1 KiB\n",
      "22/11/16 14:32:26 WARN DAGScheduler: Broadcasting large task binary with size 1375.6 KiB\n",
      "22/11/16 14:32:27 WARN DAGScheduler: Broadcasting large task binary with size 1437.9 KiB\n",
      "22/11/16 14:32:27 WARN DAGScheduler: Broadcasting large task binary with size 1490.3 KiB\n",
      "22/11/16 14:32:27 WARN DAGScheduler: Broadcasting large task binary with size 1530.6 KiB\n",
      "22/11/16 14:32:28 WARN DAGScheduler: Broadcasting large task binary with size 1564.1 KiB\n",
      "22/11/16 14:32:28 WARN DAGScheduler: Broadcasting large task binary with size 1596.0 KiB\n",
      "22/11/16 14:32:28 WARN DAGScheduler: Broadcasting large task binary with size 1625.6 KiB\n",
      "22/11/16 14:32:28 WARN DAGScheduler: Broadcasting large task binary with size 1649.8 KiB\n",
      "22/11/16 14:32:28 WARN DAGScheduler: Broadcasting large task binary with size 1665.6 KiB\n",
      "22/11/16 14:32:29 WARN DAGScheduler: Broadcasting large task binary with size 1675.5 KiB\n",
      "22/11/16 14:32:29 WARN DAGScheduler: Broadcasting large task binary with size 1682.2 KiB\n",
      "22/11/16 14:32:29 WARN DAGScheduler: Broadcasting large task binary with size 1051.8 KiB\n",
      "22/11/16 14:32:33 WARN DAGScheduler: Broadcasting large task binary with size 1111.2 KiB\n",
      "22/11/16 14:32:34 WARN DAGScheduler: Broadcasting large task binary with size 1214.2 KiB\n",
      "22/11/16 14:32:34 WARN DAGScheduler: Broadcasting large task binary with size 1303.1 KiB\n",
      "22/11/16 14:32:35 WARN DAGScheduler: Broadcasting large task binary with size 1378.0 KiB\n",
      "22/11/16 14:32:35 WARN DAGScheduler: Broadcasting large task binary with size 1441.6 KiB\n",
      "22/11/16 14:32:35 WARN DAGScheduler: Broadcasting large task binary with size 1493.7 KiB\n",
      "22/11/16 14:32:36 WARN DAGScheduler: Broadcasting large task binary with size 1539.7 KiB\n",
      "22/11/16 14:32:36 WARN DAGScheduler: Broadcasting large task binary with size 1578.5 KiB\n",
      "22/11/16 14:32:36 WARN DAGScheduler: Broadcasting large task binary with size 1609.8 KiB\n",
      "22/11/16 14:32:37 WARN DAGScheduler: Broadcasting large task binary with size 1637.9 KiB\n",
      "22/11/16 14:32:37 WARN DAGScheduler: Broadcasting large task binary with size 1659.9 KiB\n",
      "22/11/16 14:32:37 WARN DAGScheduler: Broadcasting large task binary with size 1677.4 KiB\n",
      "22/11/16 14:32:37 WARN DAGScheduler: Broadcasting large task binary with size 1689.7 KiB\n",
      "22/11/16 14:32:37 WARN DAGScheduler: Broadcasting large task binary with size 1697.8 KiB\n",
      "22/11/16 14:32:38 WARN DAGScheduler: Broadcasting large task binary with size 1060.5 KiB\n",
      "22/11/16 14:32:42 WARN DAGScheduler: Broadcasting large task binary with size 1107.6 KiB\n",
      "22/11/16 14:32:43 WARN DAGScheduler: Broadcasting large task binary with size 1221.6 KiB\n",
      "22/11/16 14:32:44 WARN DAGScheduler: Broadcasting large task binary with size 1313.8 KiB\n",
      "22/11/16 14:32:44 WARN DAGScheduler: Broadcasting large task binary with size 1385.7 KiB\n",
      "22/11/16 14:32:44 WARN DAGScheduler: Broadcasting large task binary with size 1444.6 KiB\n",
      "22/11/16 14:32:45 WARN DAGScheduler: Broadcasting large task binary with size 1494.9 KiB\n",
      "22/11/16 14:32:45 WARN DAGScheduler: Broadcasting large task binary with size 1540.3 KiB\n",
      "22/11/16 14:32:46 WARN DAGScheduler: Broadcasting large task binary with size 1579.0 KiB\n",
      "22/11/16 14:32:46 WARN DAGScheduler: Broadcasting large task binary with size 1610.0 KiB\n",
      "22/11/16 14:32:46 WARN DAGScheduler: Broadcasting large task binary with size 1635.0 KiB\n",
      "22/11/16 14:32:46 WARN DAGScheduler: Broadcasting large task binary with size 1655.7 KiB\n",
      "22/11/16 14:32:47 WARN DAGScheduler: Broadcasting large task binary with size 1674.2 KiB\n",
      "22/11/16 14:32:47 WARN DAGScheduler: Broadcasting large task binary with size 1689.1 KiB\n",
      "22/11/16 14:32:47 WARN DAGScheduler: Broadcasting large task binary with size 1698.9 KiB\n",
      "22/11/16 14:32:47 WARN DAGScheduler: Broadcasting large task binary with size 1062.0 KiB\n",
      "22/11/16 14:33:06 WARN DAGScheduler: Broadcasting large task binary with size 1094.9 KiB\n",
      "22/11/16 14:33:06 WARN DAGScheduler: Broadcasting large task binary with size 1202.7 KiB\n",
      "22/11/16 14:33:06 WARN DAGScheduler: Broadcasting large task binary with size 1298.3 KiB\n",
      "22/11/16 14:33:06 WARN DAGScheduler: Broadcasting large task binary with size 1380.5 KiB\n",
      "22/11/16 14:33:06 WARN DAGScheduler: Broadcasting large task binary with size 1451.6 KiB\n",
      "22/11/16 14:33:07 WARN DAGScheduler: Broadcasting large task binary with size 1516.4 KiB\n",
      "22/11/16 14:33:07 WARN DAGScheduler: Broadcasting large task binary with size 1568.7 KiB\n",
      "22/11/16 14:33:07 WARN DAGScheduler: Broadcasting large task binary with size 1606.0 KiB\n",
      "22/11/16 14:33:07 WARN DAGScheduler: Broadcasting large task binary with size 1632.1 KiB\n",
      "22/11/16 14:33:08 WARN DAGScheduler: Broadcasting large task binary with size 1648.1 KiB\n",
      "22/11/16 14:33:08 WARN DAGScheduler: Broadcasting large task binary with size 1663.1 KiB\n",
      "22/11/16 14:33:08 WARN DAGScheduler: Broadcasting large task binary with size 1670.8 KiB\n",
      "22/11/16 14:33:08 WARN DAGScheduler: Broadcasting large task binary with size 1676.0 KiB\n",
      "22/11/16 14:33:08 WARN DAGScheduler: Broadcasting large task binary with size 1678.5 KiB\n",
      "22/11/16 14:33:08 WARN DAGScheduler: Broadcasting large task binary with size 1043.3 KiB\n",
      "22/11/16 14:33:11 WARN DAGScheduler: Broadcasting large task binary with size 1120.7 KiB\n",
      "22/11/16 14:33:11 WARN DAGScheduler: Broadcasting large task binary with size 1228.6 KiB\n",
      "22/11/16 14:33:12 WARN DAGScheduler: Broadcasting large task binary with size 1325.2 KiB\n",
      "22/11/16 14:33:12 WARN DAGScheduler: Broadcasting large task binary with size 1406.3 KiB\n",
      "22/11/16 14:33:12 WARN DAGScheduler: Broadcasting large task binary with size 1468.7 KiB\n",
      "22/11/16 14:33:12 WARN DAGScheduler: Broadcasting large task binary with size 1524.8 KiB\n",
      "22/11/16 14:33:13 WARN DAGScheduler: Broadcasting large task binary with size 1569.9 KiB\n",
      "22/11/16 14:33:13 WARN DAGScheduler: Broadcasting large task binary with size 1604.5 KiB\n",
      "22/11/16 14:33:13 WARN DAGScheduler: Broadcasting large task binary with size 1628.0 KiB\n",
      "22/11/16 14:33:13 WARN DAGScheduler: Broadcasting large task binary with size 1644.8 KiB\n",
      "22/11/16 14:33:13 WARN DAGScheduler: Broadcasting large task binary with size 1658.9 KiB\n",
      "22/11/16 14:33:14 WARN DAGScheduler: Broadcasting large task binary with size 1670.1 KiB\n",
      "22/11/16 14:33:14 WARN DAGScheduler: Broadcasting large task binary with size 1675.4 KiB\n",
      "22/11/16 14:33:14 WARN DAGScheduler: Broadcasting large task binary with size 1678.4 KiB\n",
      "22/11/16 14:33:14 WARN DAGScheduler: Broadcasting large task binary with size 1045.4 KiB\n",
      "22/11/16 14:33:17 WARN DAGScheduler: Broadcasting large task binary with size 1100.6 KiB\n",
      "22/11/16 14:33:18 WARN DAGScheduler: Broadcasting large task binary with size 1204.7 KiB\n",
      "22/11/16 14:33:18 WARN DAGScheduler: Broadcasting large task binary with size 1298.5 KiB\n",
      "22/11/16 14:33:18 WARN DAGScheduler: Broadcasting large task binary with size 1379.7 KiB\n",
      "22/11/16 14:33:19 WARN DAGScheduler: Broadcasting large task binary with size 1442.9 KiB\n",
      "22/11/16 14:33:19 WARN DAGScheduler: Broadcasting large task binary with size 1499.9 KiB\n",
      "22/11/16 14:33:19 WARN DAGScheduler: Broadcasting large task binary with size 1547.3 KiB\n",
      "22/11/16 14:33:20 WARN DAGScheduler: Broadcasting large task binary with size 1589.4 KiB\n",
      "22/11/16 14:33:20 WARN DAGScheduler: Broadcasting large task binary with size 1623.2 KiB\n",
      "22/11/16 14:33:20 WARN DAGScheduler: Broadcasting large task binary with size 1651.5 KiB\n",
      "22/11/16 14:33:21 WARN DAGScheduler: Broadcasting large task binary with size 1672.3 KiB\n",
      "22/11/16 14:33:21 WARN DAGScheduler: Broadcasting large task binary with size 1681.7 KiB\n",
      "22/11/16 14:33:21 WARN DAGScheduler: Broadcasting large task binary with size 1685.2 KiB\n",
      "22/11/16 14:33:21 WARN DAGScheduler: Broadcasting large task binary with size 1686.3 KiB\n",
      "22/11/16 14:33:21 WARN DAGScheduler: Broadcasting large task binary with size 1052.5 KiB\n",
      "22/11/16 14:33:26 WARN DAGScheduler: Broadcasting large task binary with size 1103.1 KiB\n",
      "22/11/16 14:33:27 WARN DAGScheduler: Broadcasting large task binary with size 1198.0 KiB\n",
      "22/11/16 14:33:27 WARN DAGScheduler: Broadcasting large task binary with size 1281.5 KiB\n",
      "22/11/16 14:33:28 WARN DAGScheduler: Broadcasting large task binary with size 1354.1 KiB\n",
      "22/11/16 14:33:28 WARN DAGScheduler: Broadcasting large task binary with size 1420.8 KiB\n",
      "22/11/16 14:33:29 WARN DAGScheduler: Broadcasting large task binary with size 1476.1 KiB\n",
      "22/11/16 14:33:29 WARN DAGScheduler: Broadcasting large task binary with size 1526.6 KiB\n",
      "22/11/16 14:33:29 WARN DAGScheduler: Broadcasting large task binary with size 1571.2 KiB\n",
      "22/11/16 14:33:30 WARN DAGScheduler: Broadcasting large task binary with size 1610.6 KiB\n",
      "22/11/16 14:33:30 WARN DAGScheduler: Broadcasting large task binary with size 1642.7 KiB\n",
      "22/11/16 14:33:30 WARN DAGScheduler: Broadcasting large task binary with size 1665.0 KiB\n",
      "22/11/16 14:33:30 WARN DAGScheduler: Broadcasting large task binary with size 1679.2 KiB\n",
      "22/11/16 14:33:30 WARN DAGScheduler: Broadcasting large task binary with size 1687.5 KiB\n",
      "22/11/16 14:33:31 WARN DAGScheduler: Broadcasting large task binary with size 1692.1 KiB\n",
      "22/11/16 14:33:31 WARN DAGScheduler: Broadcasting large task binary with size 1060.2 KiB\n",
      "22/11/16 14:33:36 WARN DAGScheduler: Broadcasting large task binary with size 1097.4 KiB\n",
      "22/11/16 14:33:36 WARN DAGScheduler: Broadcasting large task binary with size 1202.0 KiB\n",
      "22/11/16 14:33:37 WARN DAGScheduler: Broadcasting large task binary with size 1297.4 KiB\n",
      "22/11/16 14:33:37 WARN DAGScheduler: Broadcasting large task binary with size 1377.7 KiB\n",
      "22/11/16 14:33:38 WARN DAGScheduler: Broadcasting large task binary with size 1447.9 KiB\n",
      "22/11/16 14:33:38 WARN DAGScheduler: Broadcasting large task binary with size 1509.2 KiB\n",
      "22/11/16 14:33:38 WARN DAGScheduler: Broadcasting large task binary with size 1554.1 KiB\n",
      "22/11/16 14:33:39 WARN DAGScheduler: Broadcasting large task binary with size 1593.7 KiB\n",
      "22/11/16 14:33:39 WARN DAGScheduler: Broadcasting large task binary with size 1624.4 KiB\n",
      "22/11/16 14:33:39 WARN DAGScheduler: Broadcasting large task binary with size 1650.2 KiB\n",
      "22/11/16 14:33:39 WARN DAGScheduler: Broadcasting large task binary with size 1669.4 KiB\n",
      "22/11/16 14:33:39 WARN DAGScheduler: Broadcasting large task binary with size 1682.3 KiB\n",
      "22/11/16 14:33:40 WARN DAGScheduler: Broadcasting large task binary with size 1689.9 KiB\n",
      "22/11/16 14:33:40 WARN DAGScheduler: Broadcasting large task binary with size 1693.7 KiB\n",
      "22/11/16 14:33:40 WARN DAGScheduler: Broadcasting large task binary with size 1059.0 KiB\n",
      "22/11/16 14:33:57 WARN DAGScheduler: Broadcasting large task binary with size 1044.5 KiB\n",
      "22/11/16 14:33:58 WARN DAGScheduler: Broadcasting large task binary with size 1166.8 KiB\n",
      "22/11/16 14:33:58 WARN DAGScheduler: Broadcasting large task binary with size 1277.1 KiB\n",
      "22/11/16 14:33:58 WARN DAGScheduler: Broadcasting large task binary with size 1374.2 KiB\n",
      "22/11/16 14:33:58 WARN DAGScheduler: Broadcasting large task binary with size 1452.6 KiB\n",
      "22/11/16 14:33:59 WARN DAGScheduler: Broadcasting large task binary with size 1511.3 KiB\n",
      "22/11/16 14:33:59 WARN DAGScheduler: Broadcasting large task binary with size 1560.4 KiB\n",
      "22/11/16 14:33:59 WARN DAGScheduler: Broadcasting large task binary with size 1597.8 KiB\n",
      "22/11/16 14:33:59 WARN DAGScheduler: Broadcasting large task binary with size 1627.6 KiB\n",
      "22/11/16 14:33:59 WARN DAGScheduler: Broadcasting large task binary with size 1652.4 KiB\n",
      "22/11/16 14:34:00 WARN DAGScheduler: Broadcasting large task binary with size 1668.9 KiB\n",
      "22/11/16 14:34:00 WARN DAGScheduler: Broadcasting large task binary with size 1681.3 KiB\n",
      "22/11/16 14:34:00 WARN DAGScheduler: Broadcasting large task binary with size 1690.2 KiB\n",
      "22/11/16 14:34:00 WARN DAGScheduler: Broadcasting large task binary with size 1694.4 KiB\n",
      "22/11/16 14:34:00 WARN DAGScheduler: Broadcasting large task binary with size 1051.0 KiB\n",
      "22/11/16 14:34:02 WARN DAGScheduler: Broadcasting large task binary with size 1028.4 KiB\n",
      "22/11/16 14:34:03 WARN DAGScheduler: Broadcasting large task binary with size 1150.3 KiB\n",
      "22/11/16 14:34:03 WARN DAGScheduler: Broadcasting large task binary with size 1254.9 KiB\n",
      "22/11/16 14:34:03 WARN DAGScheduler: Broadcasting large task binary with size 1338.2 KiB\n",
      "22/11/16 14:34:04 WARN DAGScheduler: Broadcasting large task binary with size 1410.6 KiB\n",
      "22/11/16 14:34:04 WARN DAGScheduler: Broadcasting large task binary with size 1475.3 KiB\n",
      "22/11/16 14:34:04 WARN DAGScheduler: Broadcasting large task binary with size 1530.4 KiB\n",
      "22/11/16 14:34:04 WARN DAGScheduler: Broadcasting large task binary with size 1573.0 KiB\n",
      "22/11/16 14:34:04 WARN DAGScheduler: Broadcasting large task binary with size 1607.9 KiB\n",
      "22/11/16 14:34:05 WARN DAGScheduler: Broadcasting large task binary with size 1637.7 KiB\n",
      "22/11/16 14:34:05 WARN DAGScheduler: Broadcasting large task binary with size 1658.8 KiB\n",
      "22/11/16 14:34:05 WARN DAGScheduler: Broadcasting large task binary with size 1672.7 KiB\n",
      "22/11/16 14:34:05 WARN DAGScheduler: Broadcasting large task binary with size 1682.7 KiB\n",
      "22/11/16 14:34:05 WARN DAGScheduler: Broadcasting large task binary with size 1690.5 KiB\n",
      "22/11/16 14:34:05 WARN DAGScheduler: Broadcasting large task binary with size 1697.1 KiB\n",
      "22/11/16 14:34:06 WARN DAGScheduler: Broadcasting large task binary with size 1056.2 KiB\n",
      "22/11/16 14:34:08 WARN DAGScheduler: Broadcasting large task binary with size 1046.8 KiB\n",
      "22/11/16 14:34:09 WARN DAGScheduler: Broadcasting large task binary with size 1160.9 KiB\n",
      "22/11/16 14:34:09 WARN DAGScheduler: Broadcasting large task binary with size 1266.9 KiB\n",
      "22/11/16 14:34:09 WARN DAGScheduler: Broadcasting large task binary with size 1360.6 KiB\n",
      "22/11/16 14:34:10 WARN DAGScheduler: Broadcasting large task binary with size 1440.2 KiB\n",
      "22/11/16 14:34:10 WARN DAGScheduler: Broadcasting large task binary with size 1501.2 KiB\n",
      "22/11/16 14:34:10 WARN DAGScheduler: Broadcasting large task binary with size 1546.8 KiB\n",
      "22/11/16 14:34:11 WARN DAGScheduler: Broadcasting large task binary with size 1584.8 KiB\n",
      "22/11/16 14:34:11 WARN DAGScheduler: Broadcasting large task binary with size 1613.9 KiB\n",
      "22/11/16 14:34:11 WARN DAGScheduler: Broadcasting large task binary with size 1638.1 KiB\n",
      "22/11/16 14:34:11 WARN DAGScheduler: Broadcasting large task binary with size 1657.0 KiB\n",
      "22/11/16 14:34:11 WARN DAGScheduler: Broadcasting large task binary with size 1672.4 KiB\n",
      "22/11/16 14:34:12 WARN DAGScheduler: Broadcasting large task binary with size 1684.4 KiB\n",
      "22/11/16 14:34:12 WARN DAGScheduler: Broadcasting large task binary with size 1693.6 KiB\n",
      "22/11/16 14:34:12 WARN DAGScheduler: Broadcasting large task binary with size 1699.0 KiB\n",
      "22/11/16 14:34:12 WARN DAGScheduler: Broadcasting large task binary with size 1060.3 KiB\n",
      "22/11/16 14:34:16 WARN DAGScheduler: Broadcasting large task binary with size 1008.4 KiB\n",
      "22/11/16 14:34:16 WARN DAGScheduler: Broadcasting large task binary with size 1127.4 KiB\n",
      "22/11/16 14:34:17 WARN DAGScheduler: Broadcasting large task binary with size 1232.0 KiB\n",
      "22/11/16 14:34:18 WARN DAGScheduler: Broadcasting large task binary with size 1321.0 KiB\n",
      "22/11/16 14:34:18 WARN DAGScheduler: Broadcasting large task binary with size 1397.3 KiB\n",
      "22/11/16 14:34:18 WARN DAGScheduler: Broadcasting large task binary with size 1461.4 KiB\n",
      "22/11/16 14:34:19 WARN DAGScheduler: Broadcasting large task binary with size 1518.6 KiB\n",
      "22/11/16 14:34:19 WARN DAGScheduler: Broadcasting large task binary with size 1567.9 KiB\n",
      "22/11/16 14:34:19 WARN DAGScheduler: Broadcasting large task binary with size 1611.0 KiB\n",
      "22/11/16 14:34:20 WARN DAGScheduler: Broadcasting large task binary with size 1649.0 KiB\n",
      "22/11/16 14:34:20 WARN DAGScheduler: Broadcasting large task binary with size 1677.9 KiB\n",
      "22/11/16 14:34:20 WARN DAGScheduler: Broadcasting large task binary with size 1696.0 KiB\n",
      "22/11/16 14:34:20 WARN DAGScheduler: Broadcasting large task binary with size 1704.6 KiB\n",
      "22/11/16 14:34:20 WARN DAGScheduler: Broadcasting large task binary with size 1708.5 KiB\n",
      "22/11/16 14:34:21 WARN DAGScheduler: Broadcasting large task binary with size 1710.7 KiB\n",
      "22/11/16 14:34:21 WARN DAGScheduler: Broadcasting large task binary with size 1067.0 KiB\n"
     ]
    },
    {
     "name": "stderr",
     "output_type": "stream",
     "text": [
      "                                                                                \r"
     ]
    },
    {
     "name": "stdout",
     "output_type": "stream",
     "text": [
      "22/11/16 14:34:25 WARN DAGScheduler: Broadcasting large task binary with size 1001.7 KiB\n",
      "22/11/16 14:34:26 WARN DAGScheduler: Broadcasting large task binary with size 1119.0 KiB\n",
      "22/11/16 14:34:27 WARN DAGScheduler: Broadcasting large task binary with size 1227.3 KiB\n",
      "22/11/16 14:34:27 WARN DAGScheduler: Broadcasting large task binary with size 1324.4 KiB\n",
      "22/11/16 14:34:28 WARN DAGScheduler: Broadcasting large task binary with size 1412.1 KiB\n",
      "22/11/16 14:34:28 WARN DAGScheduler: Broadcasting large task binary with size 1484.6 KiB\n",
      "22/11/16 14:34:29 WARN DAGScheduler: Broadcasting large task binary with size 1541.8 KiB\n",
      "22/11/16 14:34:29 WARN DAGScheduler: Broadcasting large task binary with size 1584.8 KiB\n",
      "22/11/16 14:34:30 WARN DAGScheduler: Broadcasting large task binary with size 1624.1 KiB\n",
      "22/11/16 14:34:30 WARN DAGScheduler: Broadcasting large task binary with size 1656.3 KiB\n",
      "22/11/16 14:34:30 WARN DAGScheduler: Broadcasting large task binary with size 1681.0 KiB\n",
      "22/11/16 14:34:30 WARN DAGScheduler: Broadcasting large task binary with size 1696.5 KiB\n",
      "22/11/16 14:34:31 WARN DAGScheduler: Broadcasting large task binary with size 1705.7 KiB\n",
      "22/11/16 14:34:31 WARN DAGScheduler: Broadcasting large task binary with size 1710.2 KiB\n",
      "22/11/16 14:34:31 WARN DAGScheduler: Broadcasting large task binary with size 1713.5 KiB\n",
      "22/11/16 14:34:31 WARN DAGScheduler: Broadcasting large task binary with size 1069.7 KiB\n",
      "22/11/16 14:34:49 WARN DAGScheduler: Broadcasting large task binary with size 1048.5 KiB\n",
      "22/11/16 14:34:49 WARN DAGScheduler: Broadcasting large task binary with size 1179.9 KiB\n",
      "22/11/16 14:34:49 WARN DAGScheduler: Broadcasting large task binary with size 1298.3 KiB\n",
      "22/11/16 14:34:49 WARN DAGScheduler: Broadcasting large task binary with size 1391.1 KiB\n",
      "22/11/16 14:34:49 WARN DAGScheduler: Broadcasting large task binary with size 1464.5 KiB\n",
      "22/11/16 14:34:50 WARN DAGScheduler: Broadcasting large task binary with size 1526.7 KiB\n",
      "22/11/16 14:34:50 WARN DAGScheduler: Broadcasting large task binary with size 1570.2 KiB\n",
      "22/11/16 14:34:50 WARN DAGScheduler: Broadcasting large task binary with size 1605.4 KiB\n",
      "22/11/16 14:34:50 WARN DAGScheduler: Broadcasting large task binary with size 1631.4 KiB\n",
      "22/11/16 14:34:50 WARN DAGScheduler: Broadcasting large task binary with size 1651.4 KiB\n",
      "22/11/16 14:34:51 WARN DAGScheduler: Broadcasting large task binary with size 1666.7 KiB\n",
      "22/11/16 14:34:51 WARN DAGScheduler: Broadcasting large task binary with size 1679.5 KiB\n",
      "22/11/16 14:34:51 WARN DAGScheduler: Broadcasting large task binary with size 1690.6 KiB\n",
      "22/11/16 14:34:51 WARN DAGScheduler: Broadcasting large task binary with size 1697.3 KiB\n",
      "22/11/16 14:34:51 WARN DAGScheduler: Broadcasting large task binary with size 1700.8 KiB\n",
      "22/11/16 14:34:51 WARN DAGScheduler: Broadcasting large task binary with size 1055.8 KiB\n",
      "22/11/16 14:34:54 WARN DAGScheduler: Broadcasting large task binary with size 1037.4 KiB\n",
      "22/11/16 14:34:54 WARN DAGScheduler: Broadcasting large task binary with size 1165.4 KiB\n",
      "22/11/16 14:34:54 WARN DAGScheduler: Broadcasting large task binary with size 1273.4 KiB\n",
      "22/11/16 14:34:54 WARN DAGScheduler: Broadcasting large task binary with size 1365.5 KiB\n",
      "22/11/16 14:34:55 WARN DAGScheduler: Broadcasting large task binary with size 1441.6 KiB\n",
      "22/11/16 14:34:55 WARN DAGScheduler: Broadcasting large task binary with size 1501.9 KiB\n",
      "22/11/16 14:34:55 WARN DAGScheduler: Broadcasting large task binary with size 1553.9 KiB\n",
      "22/11/16 14:34:55 WARN DAGScheduler: Broadcasting large task binary with size 1595.4 KiB\n",
      "22/11/16 14:34:56 WARN DAGScheduler: Broadcasting large task binary with size 1625.5 KiB\n",
      "22/11/16 14:34:56 WARN DAGScheduler: Broadcasting large task binary with size 1648.5 KiB\n",
      "22/11/16 14:34:56 WARN DAGScheduler: Broadcasting large task binary with size 1667.4 KiB\n",
      "22/11/16 14:34:56 WARN DAGScheduler: Broadcasting large task binary with size 1681.3 KiB\n",
      "22/11/16 14:34:57 WARN DAGScheduler: Broadcasting large task binary with size 1691.8 KiB\n",
      "22/11/16 14:34:57 WARN DAGScheduler: Broadcasting large task binary with size 1698.9 KiB\n",
      "22/11/16 14:34:57 WARN DAGScheduler: Broadcasting large task binary with size 1703.4 KiB\n",
      "22/11/16 14:34:57 WARN DAGScheduler: Broadcasting large task binary with size 1062.1 KiB\n",
      "22/11/16 14:35:00 WARN DAGScheduler: Broadcasting large task binary with size 1079.2 KiB\n",
      "22/11/16 14:35:01 WARN DAGScheduler: Broadcasting large task binary with size 1215.7 KiB\n",
      "22/11/16 14:35:01 WARN DAGScheduler: Broadcasting large task binary with size 1333.3 KiB\n",
      "22/11/16 14:35:02 WARN DAGScheduler: Broadcasting large task binary with size 1434.2 KiB\n",
      "22/11/16 14:35:02 WARN DAGScheduler: Broadcasting large task binary with size 1517.0 KiB\n",
      "22/11/16 14:35:02 WARN DAGScheduler: Broadcasting large task binary with size 1573.0 KiB\n",
      "22/11/16 14:35:03 WARN DAGScheduler: Broadcasting large task binary with size 1612.8 KiB\n",
      "22/11/16 14:35:03 WARN DAGScheduler: Broadcasting large task binary with size 1639.2 KiB\n",
      "22/11/16 14:35:03 WARN DAGScheduler: Broadcasting large task binary with size 1655.8 KiB\n",
      "22/11/16 14:35:03 WARN DAGScheduler: Broadcasting large task binary with size 1667.3 KiB\n",
      "22/11/16 14:35:03 WARN DAGScheduler: Broadcasting large task binary with size 1676.2 KiB\n",
      "22/11/16 14:35:03 WARN DAGScheduler: Broadcasting large task binary with size 1682.9 KiB\n",
      "22/11/16 14:35:04 WARN DAGScheduler: Broadcasting large task binary with size 1689.2 KiB\n",
      "22/11/16 14:35:04 WARN DAGScheduler: Broadcasting large task binary with size 1696.4 KiB\n",
      "22/11/16 14:35:04 WARN DAGScheduler: Broadcasting large task binary with size 1701.0 KiB\n",
      "22/11/16 14:35:04 WARN DAGScheduler: Broadcasting large task binary with size 1062.3 KiB\n",
      "22/11/16 14:35:08 WARN DAGScheduler: Broadcasting large task binary with size 1055.3 KiB\n",
      "22/11/16 14:35:09 WARN DAGScheduler: Broadcasting large task binary with size 1180.3 KiB\n",
      "22/11/16 14:35:09 WARN DAGScheduler: Broadcasting large task binary with size 1283.7 KiB\n",
      "22/11/16 14:35:10 WARN DAGScheduler: Broadcasting large task binary with size 1377.1 KiB\n",
      "22/11/16 14:35:10 WARN DAGScheduler: Broadcasting large task binary with size 1460.5 KiB\n",
      "22/11/16 14:35:11 WARN DAGScheduler: Broadcasting large task binary with size 1525.9 KiB\n",
      "22/11/16 14:35:11 WARN DAGScheduler: Broadcasting large task binary with size 1578.5 KiB\n",
      "22/11/16 14:35:12 WARN DAGScheduler: Broadcasting large task binary with size 1620.1 KiB\n",
      "22/11/16 14:35:12 WARN DAGScheduler: Broadcasting large task binary with size 1649.5 KiB\n",
      "22/11/16 14:35:12 WARN DAGScheduler: Broadcasting large task binary with size 1668.6 KiB\n",
      "22/11/16 14:35:12 WARN DAGScheduler: Broadcasting large task binary with size 1684.1 KiB\n",
      "22/11/16 14:35:13 WARN DAGScheduler: Broadcasting large task binary with size 1696.7 KiB\n",
      "22/11/16 14:35:13 WARN DAGScheduler: Broadcasting large task binary with size 1705.3 KiB\n",
      "22/11/16 14:35:13 WARN DAGScheduler: Broadcasting large task binary with size 1711.3 KiB\n",
      "22/11/16 14:35:13 WARN DAGScheduler: Broadcasting large task binary with size 1715.1 KiB\n",
      "22/11/16 14:35:13 WARN DAGScheduler: Broadcasting large task binary with size 1068.7 KiB\n"
     ]
    },
    {
     "name": "stderr",
     "output_type": "stream",
     "text": [
      "                                                                                \r"
     ]
    },
    {
     "name": "stdout",
     "output_type": "stream",
     "text": [
      "22/11/16 14:35:18 WARN DAGScheduler: Broadcasting large task binary with size 1101.1 KiB\n"
     ]
    },
    {
     "name": "stderr",
     "output_type": "stream",
     "text": [
      "                                                                                \r"
     ]
    },
    {
     "name": "stdout",
     "output_type": "stream",
     "text": [
      "22/11/16 14:35:19 WARN DAGScheduler: Broadcasting large task binary with size 1236.4 KiB\n",
      "22/11/16 14:35:20 WARN DAGScheduler: Broadcasting large task binary with size 1347.9 KiB\n",
      "22/11/16 14:35:20 WARN DAGScheduler: Broadcasting large task binary with size 1437.3 KiB\n",
      "22/11/16 14:35:21 WARN DAGScheduler: Broadcasting large task binary with size 1506.6 KiB\n",
      "22/11/16 14:35:21 WARN DAGScheduler: Broadcasting large task binary with size 1556.0 KiB\n",
      "22/11/16 14:35:21 WARN DAGScheduler: Broadcasting large task binary with size 1597.1 KiB\n",
      "22/11/16 14:35:22 WARN DAGScheduler: Broadcasting large task binary with size 1627.7 KiB\n",
      "22/11/16 14:35:22 WARN DAGScheduler: Broadcasting large task binary with size 1653.9 KiB\n",
      "22/11/16 14:35:22 WARN DAGScheduler: Broadcasting large task binary with size 1672.6 KiB\n",
      "22/11/16 14:35:22 WARN DAGScheduler: Broadcasting large task binary with size 1688.2 KiB\n",
      "22/11/16 14:35:23 WARN DAGScheduler: Broadcasting large task binary with size 1700.7 KiB\n",
      "22/11/16 14:35:23 WARN DAGScheduler: Broadcasting large task binary with size 1710.3 KiB\n",
      "22/11/16 14:35:23 WARN DAGScheduler: Broadcasting large task binary with size 1716.1 KiB\n",
      "22/11/16 14:35:23 WARN DAGScheduler: Broadcasting large task binary with size 1719.4 KiB\n",
      "22/11/16 14:35:24 WARN DAGScheduler: Broadcasting large task binary with size 1070.9 KiB\n"
     ]
    }
   ],
   "source": [
    "tree_regressor_model = regressorcv.fit(train_df)"
   ]
  },
  {
   "cell_type": "code",
   "execution_count": 631,
   "id": "60d277fe-c85c-4699-82c4-98dc59d7a611",
   "metadata": {},
   "outputs": [
    {
     "name": "stdout",
     "output_type": "stream",
     "text": [
      "RMSE: 8.462658778131233\n"
     ]
    }
   ],
   "source": [
    "regressor_predictions = tree_regressor_model.transform(test_df)\n",
    "print('RMSE:', evaluator.evaluate(regressor_predictions))\n",
    "metric_list.append(evaluator.evaluate(regressor_predictions))"
   ]
  },
  {
   "cell_type": "markdown",
   "id": "022de137-1f42-4104-a120-eb3a418baf4a",
   "metadata": {},
   "source": [
    "## Model 3: Multilayer Perceptron"
   ]
  },
  {
   "cell_type": "markdown",
   "id": "a497636e-9dd3-4d0a-a208-3f4a3bd10de7",
   "metadata": {},
   "source": [
    "I am going to be using Keras for this. The reaason why i chose this model is to try out with the multi layer regression"
   ]
  },
  {
   "cell_type": "markdown",
   "id": "e7b265ef-ff59-443d-aa15-1d342ccbb1a6",
   "metadata": {},
   "source": [
    "This model is used for accuracy purposes sacrificing speed compared to the two above models. Since it performs better in large data than the normal linear regression and decision tree regressor, I will be using it. "
   ]
  },
  {
   "cell_type": "code",
   "execution_count": 632,
   "id": "e91e1c66-e8db-4220-a6d1-25ac26bd11a6",
   "metadata": {},
   "outputs": [],
   "source": [
    "x = nyc_pandas.drop(['Economic Need Index'],axis=1)\n",
    "y = nyc_pandas['Economic Need Index']"
   ]
  },
  {
   "cell_type": "markdown",
   "id": "a5a13990-c6d5-491d-b94f-e6ca85463e1d",
   "metadata": {},
   "source": [
    "### Split the data"
   ]
  },
  {
   "cell_type": "code",
   "execution_count": 633,
   "id": "f06bf794-c9a7-4f81-91a2-56123621232b",
   "metadata": {},
   "outputs": [],
   "source": [
    "x_train, x_val, y_train, y_val = train_test_split(x,y, test_size = 0.2, random_state= 42)\n",
    "x_train, x_test, y_train, y_test = train_test_split(x,y, test_size = 0.2, random_state= 42)"
   ]
  },
  {
   "cell_type": "markdown",
   "id": "8fb02d3a-c998-4c8c-a3ef-769f518d5ab1",
   "metadata": {},
   "source": [
    "### Encode"
   ]
  },
  {
   "cell_type": "code",
   "execution_count": 634,
   "id": "9d8ebb94-3c3c-4dde-bae6-78b5607fe0eb",
   "metadata": {},
   "outputs": [
    {
     "data": {
      "text/html": [
       "<div>\n",
       "<style scoped>\n",
       "    .dataframe tbody tr th:only-of-type {\n",
       "        vertical-align: middle;\n",
       "    }\n",
       "\n",
       "    .dataframe tbody tr th {\n",
       "        vertical-align: top;\n",
       "    }\n",
       "\n",
       "    .dataframe thead th {\n",
       "        text-align: right;\n",
       "    }\n",
       "</style>\n",
       "<table border=\"1\" class=\"dataframe\">\n",
       "  <thead>\n",
       "    <tr style=\"text-align: right;\">\n",
       "      <th></th>\n",
       "      <th># Male</th>\n",
       "      <th># Asian</th>\n",
       "      <th># Black</th>\n",
       "      <th># Hispanic</th>\n",
       "      <th># Multi-Racial</th>\n",
       "      <th># Native American</th>\n",
       "      <th># White</th>\n",
       "      <th># Missing Race/Ethnicity Data</th>\n",
       "      <th># Students with Disabilities</th>\n",
       "      <th># English Language Learners</th>\n",
       "      <th>...</th>\n",
       "      <th>Year_2</th>\n",
       "      <th>Borough_0</th>\n",
       "      <th>Borough_1</th>\n",
       "      <th>Borough_2</th>\n",
       "      <th>District Number_0</th>\n",
       "      <th>District Number_1</th>\n",
       "      <th>District Number_2</th>\n",
       "      <th>District Number_3</th>\n",
       "      <th>District Number_4</th>\n",
       "      <th>District Number_5</th>\n",
       "    </tr>\n",
       "  </thead>\n",
       "  <tbody>\n",
       "    <tr>\n",
       "      <th>2358</th>\n",
       "      <td>291</td>\n",
       "      <td>5</td>\n",
       "      <td>174</td>\n",
       "      <td>384</td>\n",
       "      <td>0</td>\n",
       "      <td>8</td>\n",
       "      <td>4</td>\n",
       "      <td>0</td>\n",
       "      <td>176</td>\n",
       "      <td>97</td>\n",
       "      <td>...</td>\n",
       "      <td>1</td>\n",
       "      <td>0</td>\n",
       "      <td>0</td>\n",
       "      <td>1</td>\n",
       "      <td>0</td>\n",
       "      <td>0</td>\n",
       "      <td>0</td>\n",
       "      <td>0</td>\n",
       "      <td>0</td>\n",
       "      <td>1</td>\n",
       "    </tr>\n",
       "    <tr>\n",
       "      <th>4827</th>\n",
       "      <td>1880</td>\n",
       "      <td>1234</td>\n",
       "      <td>321</td>\n",
       "      <td>1083</td>\n",
       "      <td>11</td>\n",
       "      <td>16</td>\n",
       "      <td>537</td>\n",
       "      <td>12</td>\n",
       "      <td>461</td>\n",
       "      <td>1069</td>\n",
       "      <td>...</td>\n",
       "      <td>0</td>\n",
       "      <td>0</td>\n",
       "      <td>1</td>\n",
       "      <td>0</td>\n",
       "      <td>0</td>\n",
       "      <td>0</td>\n",
       "      <td>0</td>\n",
       "      <td>0</td>\n",
       "      <td>1</td>\n",
       "      <td>0</td>\n",
       "    </tr>\n",
       "    <tr>\n",
       "      <th>5764</th>\n",
       "      <td>429</td>\n",
       "      <td>667</td>\n",
       "      <td>8</td>\n",
       "      <td>105</td>\n",
       "      <td>15</td>\n",
       "      <td>2</td>\n",
       "      <td>12</td>\n",
       "      <td>0</td>\n",
       "      <td>99</td>\n",
       "      <td>308</td>\n",
       "      <td>...</td>\n",
       "      <td>1</td>\n",
       "      <td>0</td>\n",
       "      <td>1</td>\n",
       "      <td>1</td>\n",
       "      <td>0</td>\n",
       "      <td>0</td>\n",
       "      <td>0</td>\n",
       "      <td>0</td>\n",
       "      <td>1</td>\n",
       "      <td>1</td>\n",
       "    </tr>\n",
       "    <tr>\n",
       "      <th>2107</th>\n",
       "      <td>208</td>\n",
       "      <td>33</td>\n",
       "      <td>106</td>\n",
       "      <td>309</td>\n",
       "      <td>0</td>\n",
       "      <td>1</td>\n",
       "      <td>10</td>\n",
       "      <td>4</td>\n",
       "      <td>106</td>\n",
       "      <td>30</td>\n",
       "      <td>...</td>\n",
       "      <td>1</td>\n",
       "      <td>0</td>\n",
       "      <td>0</td>\n",
       "      <td>1</td>\n",
       "      <td>0</td>\n",
       "      <td>0</td>\n",
       "      <td>0</td>\n",
       "      <td>1</td>\n",
       "      <td>0</td>\n",
       "      <td>0</td>\n",
       "    </tr>\n",
       "    <tr>\n",
       "      <th>7371</th>\n",
       "      <td>411</td>\n",
       "      <td>293</td>\n",
       "      <td>53</td>\n",
       "      <td>132</td>\n",
       "      <td>7</td>\n",
       "      <td>5</td>\n",
       "      <td>295</td>\n",
       "      <td>0</td>\n",
       "      <td>176</td>\n",
       "      <td>41</td>\n",
       "      <td>...</td>\n",
       "      <td>1</td>\n",
       "      <td>1</td>\n",
       "      <td>0</td>\n",
       "      <td>0</td>\n",
       "      <td>0</td>\n",
       "      <td>0</td>\n",
       "      <td>0</td>\n",
       "      <td>1</td>\n",
       "      <td>0</td>\n",
       "      <td>1</td>\n",
       "    </tr>\n",
       "  </tbody>\n",
       "</table>\n",
       "<p>5 rows × 26 columns</p>\n",
       "</div>"
      ],
      "text/plain": [
       "      # Male  # Asian  # Black  # Hispanic  # Multi-Racial  # Native American  \\\n",
       "2358     291        5      174         384               0                  8   \n",
       "4827    1880     1234      321        1083              11                 16   \n",
       "5764     429      667        8         105              15                  2   \n",
       "2107     208       33      106         309               0                  1   \n",
       "7371     411      293       53         132               7                  5   \n",
       "\n",
       "      # White  # Missing Race/Ethnicity Data  # Students with Disabilities  \\\n",
       "2358        4                              0                           176   \n",
       "4827      537                             12                           461   \n",
       "5764       12                              0                            99   \n",
       "2107       10                              4                           106   \n",
       "7371      295                              0                           176   \n",
       "\n",
       "      # English Language Learners  ...  Year_2  Borough_0  Borough_1  \\\n",
       "2358                           97  ...       1          0          0   \n",
       "4827                         1069  ...       0          0          1   \n",
       "5764                          308  ...       1          0          1   \n",
       "2107                           30  ...       1          0          0   \n",
       "7371                           41  ...       1          1          0   \n",
       "\n",
       "      Borough_2  District Number_0  District Number_1  District Number_2  \\\n",
       "2358          1                  0                  0                  0   \n",
       "4827          0                  0                  0                  0   \n",
       "5764          1                  0                  0                  0   \n",
       "2107          1                  0                  0                  0   \n",
       "7371          0                  0                  0                  0   \n",
       "\n",
       "      District Number_3  District Number_4  District Number_5  \n",
       "2358                  0                  0                  1  \n",
       "4827                  0                  1                  0  \n",
       "5764                  0                  1                  1  \n",
       "2107                  1                  0                  0  \n",
       "7371                  1                  0                  1  \n",
       "\n",
       "[5 rows x 26 columns]"
      ]
     },
     "execution_count": 634,
     "metadata": {},
     "output_type": "execute_result"
    }
   ],
   "source": [
    "from sklearn.model_selection import train_test_split\n",
    "import category_encoders as e\n",
    "encoder = e.BinaryEncoder(cols = ['Year','Borough','District Number'])\n",
    "encoded_x_train = encoder.fit_transform(x_train[['Year','Borough','District Number']])\n",
    "x_train_encoded = pd.concat([x_train, encoded_x_train],axis=1)\n",
    "x_train_encoded.drop(['Year','Borough','District Number'], axis=1,inplace=True)\n",
    "x_train_encoded.head()"
   ]
  },
  {
   "cell_type": "code",
   "execution_count": 635,
   "id": "e38615fa-49c4-4bdb-a1be-d4ae171780d8",
   "metadata": {},
   "outputs": [
    {
     "data": {
      "text/html": [
       "<div>\n",
       "<style scoped>\n",
       "    .dataframe tbody tr th:only-of-type {\n",
       "        vertical-align: middle;\n",
       "    }\n",
       "\n",
       "    .dataframe tbody tr th {\n",
       "        vertical-align: top;\n",
       "    }\n",
       "\n",
       "    .dataframe thead th {\n",
       "        text-align: right;\n",
       "    }\n",
       "</style>\n",
       "<table border=\"1\" class=\"dataframe\">\n",
       "  <thead>\n",
       "    <tr style=\"text-align: right;\">\n",
       "      <th></th>\n",
       "      <th># Male</th>\n",
       "      <th># Asian</th>\n",
       "      <th># Black</th>\n",
       "      <th># Hispanic</th>\n",
       "      <th># Multi-Racial</th>\n",
       "      <th># Native American</th>\n",
       "      <th># White</th>\n",
       "      <th># Missing Race/Ethnicity Data</th>\n",
       "      <th># Students with Disabilities</th>\n",
       "      <th># English Language Learners</th>\n",
       "      <th>...</th>\n",
       "      <th>Year_2</th>\n",
       "      <th>Borough_0</th>\n",
       "      <th>Borough_1</th>\n",
       "      <th>Borough_2</th>\n",
       "      <th>District Number_0</th>\n",
       "      <th>District Number_1</th>\n",
       "      <th>District Number_2</th>\n",
       "      <th>District Number_3</th>\n",
       "      <th>District Number_4</th>\n",
       "      <th>District Number_5</th>\n",
       "    </tr>\n",
       "  </thead>\n",
       "  <tbody>\n",
       "    <tr>\n",
       "      <th>5701</th>\n",
       "      <td>716</td>\n",
       "      <td>887</td>\n",
       "      <td>17</td>\n",
       "      <td>420</td>\n",
       "      <td>14</td>\n",
       "      <td>3</td>\n",
       "      <td>84</td>\n",
       "      <td>0</td>\n",
       "      <td>171</td>\n",
       "      <td>338</td>\n",
       "      <td>...</td>\n",
       "      <td>1</td>\n",
       "      <td>0</td>\n",
       "      <td>0</td>\n",
       "      <td>1</td>\n",
       "      <td>0</td>\n",
       "      <td>0</td>\n",
       "      <td>0</td>\n",
       "      <td>0</td>\n",
       "      <td>0</td>\n",
       "      <td>1</td>\n",
       "    </tr>\n",
       "    <tr>\n",
       "      <th>5489</th>\n",
       "      <td>383</td>\n",
       "      <td>64</td>\n",
       "      <td>13</td>\n",
       "      <td>639</td>\n",
       "      <td>2</td>\n",
       "      <td>2</td>\n",
       "      <td>52</td>\n",
       "      <td>0</td>\n",
       "      <td>225</td>\n",
       "      <td>177</td>\n",
       "      <td>...</td>\n",
       "      <td>0</td>\n",
       "      <td>0</td>\n",
       "      <td>0</td>\n",
       "      <td>1</td>\n",
       "      <td>0</td>\n",
       "      <td>0</td>\n",
       "      <td>0</td>\n",
       "      <td>0</td>\n",
       "      <td>1</td>\n",
       "      <td>0</td>\n",
       "    </tr>\n",
       "    <tr>\n",
       "      <th>7773</th>\n",
       "      <td>34</td>\n",
       "      <td>9</td>\n",
       "      <td>9</td>\n",
       "      <td>22</td>\n",
       "      <td>0</td>\n",
       "      <td>5</td>\n",
       "      <td>20</td>\n",
       "      <td>0</td>\n",
       "      <td>49</td>\n",
       "      <td>2</td>\n",
       "      <td>...</td>\n",
       "      <td>1</td>\n",
       "      <td>0</td>\n",
       "      <td>1</td>\n",
       "      <td>0</td>\n",
       "      <td>0</td>\n",
       "      <td>0</td>\n",
       "      <td>0</td>\n",
       "      <td>0</td>\n",
       "      <td>1</td>\n",
       "      <td>1</td>\n",
       "    </tr>\n",
       "    <tr>\n",
       "      <th>8205</th>\n",
       "      <td>193</td>\n",
       "      <td>27</td>\n",
       "      <td>270</td>\n",
       "      <td>42</td>\n",
       "      <td>3</td>\n",
       "      <td>8</td>\n",
       "      <td>6</td>\n",
       "      <td>4</td>\n",
       "      <td>44</td>\n",
       "      <td>18</td>\n",
       "      <td>...</td>\n",
       "      <td>1</td>\n",
       "      <td>0</td>\n",
       "      <td>1</td>\n",
       "      <td>1</td>\n",
       "      <td>0</td>\n",
       "      <td>0</td>\n",
       "      <td>0</td>\n",
       "      <td>1</td>\n",
       "      <td>0</td>\n",
       "      <td>0</td>\n",
       "    </tr>\n",
       "    <tr>\n",
       "      <th>1650</th>\n",
       "      <td>135</td>\n",
       "      <td>0</td>\n",
       "      <td>65</td>\n",
       "      <td>172</td>\n",
       "      <td>0</td>\n",
       "      <td>1</td>\n",
       "      <td>4</td>\n",
       "      <td>0</td>\n",
       "      <td>73</td>\n",
       "      <td>18</td>\n",
       "      <td>...</td>\n",
       "      <td>0</td>\n",
       "      <td>1</td>\n",
       "      <td>0</td>\n",
       "      <td>0</td>\n",
       "      <td>0</td>\n",
       "      <td>0</td>\n",
       "      <td>0</td>\n",
       "      <td>1</td>\n",
       "      <td>0</td>\n",
       "      <td>1</td>\n",
       "    </tr>\n",
       "  </tbody>\n",
       "</table>\n",
       "<p>5 rows × 26 columns</p>\n",
       "</div>"
      ],
      "text/plain": [
       "      # Male  # Asian  # Black  # Hispanic  # Multi-Racial  # Native American  \\\n",
       "5701     716      887       17         420              14                  3   \n",
       "5489     383       64       13         639               2                  2   \n",
       "7773      34        9        9          22               0                  5   \n",
       "8205     193       27      270          42               3                  8   \n",
       "1650     135        0       65         172               0                  1   \n",
       "\n",
       "      # White  # Missing Race/Ethnicity Data  # Students with Disabilities  \\\n",
       "5701       84                              0                           171   \n",
       "5489       52                              0                           225   \n",
       "7773       20                              0                            49   \n",
       "8205        6                              4                            44   \n",
       "1650        4                              0                            73   \n",
       "\n",
       "      # English Language Learners  ...  Year_2  Borough_0  Borough_1  \\\n",
       "5701                          338  ...       1          0          0   \n",
       "5489                          177  ...       0          0          0   \n",
       "7773                            2  ...       1          0          1   \n",
       "8205                           18  ...       1          0          1   \n",
       "1650                           18  ...       0          1          0   \n",
       "\n",
       "      Borough_2  District Number_0  District Number_1  District Number_2  \\\n",
       "5701          1                  0                  0                  0   \n",
       "5489          1                  0                  0                  0   \n",
       "7773          0                  0                  0                  0   \n",
       "8205          1                  0                  0                  0   \n",
       "1650          0                  0                  0                  0   \n",
       "\n",
       "      District Number_3  District Number_4  District Number_5  \n",
       "5701                  0                  0                  1  \n",
       "5489                  0                  1                  0  \n",
       "7773                  0                  1                  1  \n",
       "8205                  1                  0                  0  \n",
       "1650                  1                  0                  1  \n",
       "\n",
       "[5 rows x 26 columns]"
      ]
     },
     "execution_count": 635,
     "metadata": {},
     "output_type": "execute_result"
    }
   ],
   "source": [
    "encoded_x_test = encoder.fit_transform(x_test[['Year','Borough','District Number']])\n",
    "x_test_encoded = pd.concat([x_test, encoded_x_test],axis=1)\n",
    "x_test_encoded.drop(['Year','Borough','District Number'], axis=1,inplace=True)\n",
    "x_test_encoded.head()"
   ]
  },
  {
   "cell_type": "code",
   "execution_count": 636,
   "id": "c4e47066-10ee-402d-a7b3-500ec412fb96",
   "metadata": {},
   "outputs": [
    {
     "data": {
      "text/html": [
       "<div>\n",
       "<style scoped>\n",
       "    .dataframe tbody tr th:only-of-type {\n",
       "        vertical-align: middle;\n",
       "    }\n",
       "\n",
       "    .dataframe tbody tr th {\n",
       "        vertical-align: top;\n",
       "    }\n",
       "\n",
       "    .dataframe thead th {\n",
       "        text-align: right;\n",
       "    }\n",
       "</style>\n",
       "<table border=\"1\" class=\"dataframe\">\n",
       "  <thead>\n",
       "    <tr style=\"text-align: right;\">\n",
       "      <th></th>\n",
       "      <th># Male</th>\n",
       "      <th># Asian</th>\n",
       "      <th># Black</th>\n",
       "      <th># Hispanic</th>\n",
       "      <th># Multi-Racial</th>\n",
       "      <th># Native American</th>\n",
       "      <th># White</th>\n",
       "      <th># Missing Race/Ethnicity Data</th>\n",
       "      <th># Students with Disabilities</th>\n",
       "      <th># English Language Learners</th>\n",
       "      <th>...</th>\n",
       "      <th>Year_2</th>\n",
       "      <th>Borough_0</th>\n",
       "      <th>Borough_1</th>\n",
       "      <th>Borough_2</th>\n",
       "      <th>District Number_0</th>\n",
       "      <th>District Number_1</th>\n",
       "      <th>District Number_2</th>\n",
       "      <th>District Number_3</th>\n",
       "      <th>District Number_4</th>\n",
       "      <th>District Number_5</th>\n",
       "    </tr>\n",
       "  </thead>\n",
       "  <tbody>\n",
       "    <tr>\n",
       "      <th>5701</th>\n",
       "      <td>716</td>\n",
       "      <td>887</td>\n",
       "      <td>17</td>\n",
       "      <td>420</td>\n",
       "      <td>14</td>\n",
       "      <td>3</td>\n",
       "      <td>84</td>\n",
       "      <td>0</td>\n",
       "      <td>171</td>\n",
       "      <td>338</td>\n",
       "      <td>...</td>\n",
       "      <td>1</td>\n",
       "      <td>0</td>\n",
       "      <td>0</td>\n",
       "      <td>1</td>\n",
       "      <td>0</td>\n",
       "      <td>0</td>\n",
       "      <td>0</td>\n",
       "      <td>0</td>\n",
       "      <td>0</td>\n",
       "      <td>1</td>\n",
       "    </tr>\n",
       "    <tr>\n",
       "      <th>5489</th>\n",
       "      <td>383</td>\n",
       "      <td>64</td>\n",
       "      <td>13</td>\n",
       "      <td>639</td>\n",
       "      <td>2</td>\n",
       "      <td>2</td>\n",
       "      <td>52</td>\n",
       "      <td>0</td>\n",
       "      <td>225</td>\n",
       "      <td>177</td>\n",
       "      <td>...</td>\n",
       "      <td>0</td>\n",
       "      <td>0</td>\n",
       "      <td>0</td>\n",
       "      <td>1</td>\n",
       "      <td>0</td>\n",
       "      <td>0</td>\n",
       "      <td>0</td>\n",
       "      <td>0</td>\n",
       "      <td>1</td>\n",
       "      <td>0</td>\n",
       "    </tr>\n",
       "    <tr>\n",
       "      <th>7773</th>\n",
       "      <td>34</td>\n",
       "      <td>9</td>\n",
       "      <td>9</td>\n",
       "      <td>22</td>\n",
       "      <td>0</td>\n",
       "      <td>5</td>\n",
       "      <td>20</td>\n",
       "      <td>0</td>\n",
       "      <td>49</td>\n",
       "      <td>2</td>\n",
       "      <td>...</td>\n",
       "      <td>1</td>\n",
       "      <td>0</td>\n",
       "      <td>1</td>\n",
       "      <td>0</td>\n",
       "      <td>0</td>\n",
       "      <td>0</td>\n",
       "      <td>0</td>\n",
       "      <td>0</td>\n",
       "      <td>1</td>\n",
       "      <td>1</td>\n",
       "    </tr>\n",
       "    <tr>\n",
       "      <th>8205</th>\n",
       "      <td>193</td>\n",
       "      <td>27</td>\n",
       "      <td>270</td>\n",
       "      <td>42</td>\n",
       "      <td>3</td>\n",
       "      <td>8</td>\n",
       "      <td>6</td>\n",
       "      <td>4</td>\n",
       "      <td>44</td>\n",
       "      <td>18</td>\n",
       "      <td>...</td>\n",
       "      <td>1</td>\n",
       "      <td>0</td>\n",
       "      <td>1</td>\n",
       "      <td>1</td>\n",
       "      <td>0</td>\n",
       "      <td>0</td>\n",
       "      <td>0</td>\n",
       "      <td>1</td>\n",
       "      <td>0</td>\n",
       "      <td>0</td>\n",
       "    </tr>\n",
       "    <tr>\n",
       "      <th>1650</th>\n",
       "      <td>135</td>\n",
       "      <td>0</td>\n",
       "      <td>65</td>\n",
       "      <td>172</td>\n",
       "      <td>0</td>\n",
       "      <td>1</td>\n",
       "      <td>4</td>\n",
       "      <td>0</td>\n",
       "      <td>73</td>\n",
       "      <td>18</td>\n",
       "      <td>...</td>\n",
       "      <td>0</td>\n",
       "      <td>1</td>\n",
       "      <td>0</td>\n",
       "      <td>0</td>\n",
       "      <td>0</td>\n",
       "      <td>0</td>\n",
       "      <td>0</td>\n",
       "      <td>1</td>\n",
       "      <td>0</td>\n",
       "      <td>1</td>\n",
       "    </tr>\n",
       "  </tbody>\n",
       "</table>\n",
       "<p>5 rows × 26 columns</p>\n",
       "</div>"
      ],
      "text/plain": [
       "      # Male  # Asian  # Black  # Hispanic  # Multi-Racial  # Native American  \\\n",
       "5701     716      887       17         420              14                  3   \n",
       "5489     383       64       13         639               2                  2   \n",
       "7773      34        9        9          22               0                  5   \n",
       "8205     193       27      270          42               3                  8   \n",
       "1650     135        0       65         172               0                  1   \n",
       "\n",
       "      # White  # Missing Race/Ethnicity Data  # Students with Disabilities  \\\n",
       "5701       84                              0                           171   \n",
       "5489       52                              0                           225   \n",
       "7773       20                              0                            49   \n",
       "8205        6                              4                            44   \n",
       "1650        4                              0                            73   \n",
       "\n",
       "      # English Language Learners  ...  Year_2  Borough_0  Borough_1  \\\n",
       "5701                          338  ...       1          0          0   \n",
       "5489                          177  ...       0          0          0   \n",
       "7773                            2  ...       1          0          1   \n",
       "8205                           18  ...       1          0          1   \n",
       "1650                           18  ...       0          1          0   \n",
       "\n",
       "      Borough_2  District Number_0  District Number_1  District Number_2  \\\n",
       "5701          1                  0                  0                  0   \n",
       "5489          1                  0                  0                  0   \n",
       "7773          0                  0                  0                  0   \n",
       "8205          1                  0                  0                  0   \n",
       "1650          0                  0                  0                  0   \n",
       "\n",
       "      District Number_3  District Number_4  District Number_5  \n",
       "5701                  0                  0                  1  \n",
       "5489                  0                  1                  0  \n",
       "7773                  0                  1                  1  \n",
       "8205                  1                  0                  0  \n",
       "1650                  1                  0                  1  \n",
       "\n",
       "[5 rows x 26 columns]"
      ]
     },
     "execution_count": 636,
     "metadata": {},
     "output_type": "execute_result"
    }
   ],
   "source": [
    "encoded_x_val = encoder.fit_transform(x_val[['Year','Borough','District Number']])\n",
    "x_val_encoded = pd.concat([x_val, encoded_x_test],axis=1)\n",
    "x_val_encoded.drop(['Year','Borough','District Number'], axis=1,inplace=True)\n",
    "x_val_encoded.head()"
   ]
  },
  {
   "cell_type": "markdown",
   "id": "4d70fb09-121a-484c-b808-3a4c151c3ce2",
   "metadata": {},
   "source": [
    "### Scale"
   ]
  },
  {
   "cell_type": "code",
   "execution_count": 637,
   "id": "0f5eb431-b1d8-4942-96d5-ecfb418a19a9",
   "metadata": {},
   "outputs": [],
   "source": [
    "from sklearn.preprocessing import StandardScaler\n",
    "sc = StandardScaler()\n",
    "x_train_scaled = sc.fit_transform(x_train_encoded)\n",
    "x_test_scaled = sc.fit_transform(x_test_encoded)\n",
    "x_val_scaled = sc.fit_transform(x_val_encoded)"
   ]
  },
  {
   "cell_type": "code",
   "execution_count": 638,
   "id": "042180a1-0505-4b00-b231-455594b61204",
   "metadata": {},
   "outputs": [],
   "source": [
    "x_train_scaled = pd.DataFrame(x_train_scaled, columns = x_train_encoded.columns)\n",
    "x_test_scaled = pd.DataFrame(x_test_scaled, columns = x_train_encoded.columns)\n",
    "x_val_scaled = pd.DataFrame(x_val_scaled, columns = x_train_encoded.columns)"
   ]
  },
  {
   "cell_type": "code",
   "execution_count": 639,
   "id": "7f49a3d5-2e63-4594-b9c2-fe6519718512",
   "metadata": {},
   "outputs": [
    {
     "name": "stdout",
     "output_type": "stream",
     "text": [
      "Epoch 1/50\n",
      "115/115 [==============================] - 1s 3ms/step - loss: 67.9681 - root_mean_squared_error: 71.0259 - val_loss: 62.0605 - val_root_mean_squared_error: 65.3350\n",
      "Epoch 2/50\n",
      "115/115 [==============================] - 0s 2ms/step - loss: 42.2413 - root_mean_squared_error: 47.6578 - val_loss: 18.6038 - val_root_mean_squared_error: 21.8583\n",
      "Epoch 3/50\n",
      "115/115 [==============================] - 0s 2ms/step - loss: 10.8483 - root_mean_squared_error: 14.7563 - val_loss: 10.3212 - val_root_mean_squared_error: 13.5434\n",
      "Epoch 4/50\n",
      "115/115 [==============================] - 0s 2ms/step - loss: 8.4686 - root_mean_squared_error: 11.9197 - val_loss: 10.2322 - val_root_mean_squared_error: 13.3291\n",
      "Epoch 5/50\n",
      "115/115 [==============================] - 0s 2ms/step - loss: 7.7602 - root_mean_squared_error: 10.9107 - val_loss: 10.3998 - val_root_mean_squared_error: 13.5300\n",
      "Epoch 6/50\n",
      "115/115 [==============================] - 0s 2ms/step - loss: 7.3711 - root_mean_squared_error: 10.3404 - val_loss: 10.2722 - val_root_mean_squared_error: 13.4441\n",
      "Epoch 7/50\n",
      "115/115 [==============================] - 0s 2ms/step - loss: 7.0891 - root_mean_squared_error: 9.9202 - val_loss: 10.6997 - val_root_mean_squared_error: 13.9111\n",
      "Epoch 8/50\n",
      "115/115 [==============================] - 0s 2ms/step - loss: 6.8968 - root_mean_squared_error: 9.6388 - val_loss: 10.7059 - val_root_mean_squared_error: 13.9311\n",
      "Epoch 9/50\n",
      "115/115 [==============================] - 0s 3ms/step - loss: 6.7337 - root_mean_squared_error: 9.3968 - val_loss: 10.8422 - val_root_mean_squared_error: 14.1431\n",
      "Epoch 10/50\n",
      "115/115 [==============================] - 0s 3ms/step - loss: 6.6043 - root_mean_squared_error: 9.2498 - val_loss: 10.8657 - val_root_mean_squared_error: 14.1863\n",
      "Epoch 11/50\n",
      "115/115 [==============================] - 0s 2ms/step - loss: 6.4826 - root_mean_squared_error: 9.0976 - val_loss: 11.2341 - val_root_mean_squared_error: 14.6601\n",
      "Epoch 12/50\n",
      "115/115 [==============================] - 0s 2ms/step - loss: 6.3846 - root_mean_squared_error: 8.9750 - val_loss: 11.1589 - val_root_mean_squared_error: 14.5262\n",
      "Epoch 13/50\n",
      "115/115 [==============================] - 0s 2ms/step - loss: 6.3039 - root_mean_squared_error: 8.8672 - val_loss: 11.4166 - val_root_mean_squared_error: 14.8849\n",
      "Epoch 14/50\n",
      "115/115 [==============================] - 0s 2ms/step - loss: 6.2365 - root_mean_squared_error: 8.7922 - val_loss: 11.4694 - val_root_mean_squared_error: 14.8978\n",
      "Epoch 15/50\n",
      "115/115 [==============================] - 0s 2ms/step - loss: 6.1607 - root_mean_squared_error: 8.6951 - val_loss: 11.5770 - val_root_mean_squared_error: 15.0758\n",
      "Epoch 16/50\n",
      "115/115 [==============================] - 0s 2ms/step - loss: 6.0968 - root_mean_squared_error: 8.6364 - val_loss: 11.5866 - val_root_mean_squared_error: 15.0761\n",
      "Epoch 17/50\n",
      "115/115 [==============================] - 0s 2ms/step - loss: 6.0367 - root_mean_squared_error: 8.5546 - val_loss: 11.6519 - val_root_mean_squared_error: 15.1037\n",
      "Epoch 18/50\n",
      "115/115 [==============================] - 0s 2ms/step - loss: 6.0023 - root_mean_squared_error: 8.5126 - val_loss: 11.7267 - val_root_mean_squared_error: 15.2359\n",
      "Epoch 19/50\n",
      "115/115 [==============================] - 0s 2ms/step - loss: 5.9532 - root_mean_squared_error: 8.4470 - val_loss: 11.8128 - val_root_mean_squared_error: 15.2699\n",
      "Epoch 20/50\n",
      "115/115 [==============================] - 0s 2ms/step - loss: 5.9053 - root_mean_squared_error: 8.3876 - val_loss: 11.7062 - val_root_mean_squared_error: 15.1628\n",
      "Epoch 21/50\n",
      "115/115 [==============================] - 0s 2ms/step - loss: 5.8662 - root_mean_squared_error: 8.3278 - val_loss: 11.8150 - val_root_mean_squared_error: 15.3274\n",
      "Epoch 22/50\n",
      "115/115 [==============================] - 0s 2ms/step - loss: 5.8372 - root_mean_squared_error: 8.2953 - val_loss: 11.8304 - val_root_mean_squared_error: 15.3346\n",
      "Epoch 23/50\n",
      "115/115 [==============================] - 0s 2ms/step - loss: 5.8079 - root_mean_squared_error: 8.2536 - val_loss: 11.9152 - val_root_mean_squared_error: 15.4131\n",
      "Epoch 24/50\n",
      "115/115 [==============================] - 0s 2ms/step - loss: 5.7847 - root_mean_squared_error: 8.2121 - val_loss: 12.1204 - val_root_mean_squared_error: 15.6097\n",
      "Epoch 25/50\n",
      "115/115 [==============================] - 0s 2ms/step - loss: 5.7485 - root_mean_squared_error: 8.1626 - val_loss: 11.9743 - val_root_mean_squared_error: 15.5106\n",
      "Epoch 26/50\n",
      "115/115 [==============================] - 0s 3ms/step - loss: 5.7168 - root_mean_squared_error: 8.1364 - val_loss: 12.0785 - val_root_mean_squared_error: 15.6381\n",
      "Epoch 27/50\n",
      "115/115 [==============================] - 0s 2ms/step - loss: 5.6896 - root_mean_squared_error: 8.0880 - val_loss: 12.0196 - val_root_mean_squared_error: 15.5879\n",
      "Epoch 28/50\n",
      "115/115 [==============================] - 0s 2ms/step - loss: 5.6708 - root_mean_squared_error: 8.0623 - val_loss: 11.9509 - val_root_mean_squared_error: 15.4849\n",
      "Epoch 29/50\n",
      "115/115 [==============================] - 0s 2ms/step - loss: 5.6510 - root_mean_squared_error: 8.0398 - val_loss: 12.0064 - val_root_mean_squared_error: 15.5348\n",
      "Epoch 30/50\n",
      "115/115 [==============================] - 0s 2ms/step - loss: 5.6273 - root_mean_squared_error: 8.0131 - val_loss: 11.8649 - val_root_mean_squared_error: 15.3592\n",
      "Epoch 31/50\n",
      "115/115 [==============================] - 0s 2ms/step - loss: 5.6039 - root_mean_squared_error: 7.9880 - val_loss: 11.8556 - val_root_mean_squared_error: 15.3814\n",
      "Epoch 32/50\n",
      "115/115 [==============================] - 0s 2ms/step - loss: 5.5742 - root_mean_squared_error: 7.9436 - val_loss: 11.8499 - val_root_mean_squared_error: 15.4451\n",
      "Epoch 33/50\n",
      "115/115 [==============================] - 0s 2ms/step - loss: 5.5589 - root_mean_squared_error: 7.9218 - val_loss: 11.9308 - val_root_mean_squared_error: 15.4313\n",
      "Epoch 34/50\n",
      "115/115 [==============================] - 0s 2ms/step - loss: 5.5504 - root_mean_squared_error: 7.9279 - val_loss: 12.0121 - val_root_mean_squared_error: 15.5630\n",
      "Epoch 35/50\n",
      "115/115 [==============================] - 0s 2ms/step - loss: 5.5274 - root_mean_squared_error: 7.8840 - val_loss: 11.7709 - val_root_mean_squared_error: 15.2464\n",
      "Epoch 36/50\n",
      "115/115 [==============================] - 0s 2ms/step - loss: 5.5218 - root_mean_squared_error: 7.8954 - val_loss: 11.8381 - val_root_mean_squared_error: 15.3735\n",
      "Epoch 37/50\n",
      "115/115 [==============================] - 0s 2ms/step - loss: 5.4982 - root_mean_squared_error: 7.8547 - val_loss: 11.7163 - val_root_mean_squared_error: 15.2567\n",
      "Epoch 38/50\n",
      "115/115 [==============================] - 0s 2ms/step - loss: 5.4790 - root_mean_squared_error: 7.8458 - val_loss: 11.8118 - val_root_mean_squared_error: 15.3718\n",
      "Epoch 39/50\n",
      "115/115 [==============================] - 0s 2ms/step - loss: 5.4729 - root_mean_squared_error: 7.8363 - val_loss: 11.8232 - val_root_mean_squared_error: 15.3859\n",
      "Epoch 40/50\n",
      "115/115 [==============================] - 0s 2ms/step - loss: 5.4619 - root_mean_squared_error: 7.8132 - val_loss: 11.8815 - val_root_mean_squared_error: 15.4543\n",
      "Epoch 41/50\n",
      "115/115 [==============================] - 0s 2ms/step - loss: 5.4661 - root_mean_squared_error: 7.7941 - val_loss: 11.7867 - val_root_mean_squared_error: 15.3457\n",
      "Epoch 42/50\n",
      "115/115 [==============================] - 0s 2ms/step - loss: 5.4405 - root_mean_squared_error: 7.7860 - val_loss: 11.8801 - val_root_mean_squared_error: 15.4712\n",
      "Epoch 43/50\n",
      "115/115 [==============================] - 0s 2ms/step - loss: 5.4240 - root_mean_squared_error: 7.7714 - val_loss: 11.6730 - val_root_mean_squared_error: 15.2248\n",
      "Epoch 44/50\n",
      "115/115 [==============================] - 0s 2ms/step - loss: 5.4161 - root_mean_squared_error: 7.7611 - val_loss: 11.7488 - val_root_mean_squared_error: 15.2828\n",
      "Epoch 45/50\n",
      "115/115 [==============================] - 0s 2ms/step - loss: 5.4107 - root_mean_squared_error: 7.7479 - val_loss: 11.6747 - val_root_mean_squared_error: 15.2157\n",
      "Epoch 46/50\n",
      "115/115 [==============================] - 0s 2ms/step - loss: 5.3880 - root_mean_squared_error: 7.7439 - val_loss: 11.7629 - val_root_mean_squared_error: 15.3036\n",
      "Epoch 47/50\n",
      "115/115 [==============================] - 0s 2ms/step - loss: 5.3816 - root_mean_squared_error: 7.7106 - val_loss: 11.5559 - val_root_mean_squared_error: 15.0780\n",
      "Epoch 48/50\n",
      "115/115 [==============================] - 0s 2ms/step - loss: 5.3748 - root_mean_squared_error: 7.7145 - val_loss: 11.7068 - val_root_mean_squared_error: 15.2670\n",
      "Epoch 49/50\n",
      "115/115 [==============================] - 0s 2ms/step - loss: 5.3572 - root_mean_squared_error: 7.6903 - val_loss: 11.6989 - val_root_mean_squared_error: 15.2900\n",
      "Epoch 50/50\n",
      "115/115 [==============================] - 0s 2ms/step - loss: 5.3591 - root_mean_squared_error: 7.6910 - val_loss: 11.6457 - val_root_mean_squared_error: 15.2447\n"
     ]
    }
   ],
   "source": [
    "import keras\n",
    "import keras.utils\n",
    "from keras import utils as np_utils\n",
    "import tensorflow as tf\n",
    "from scikeras.wrappers import KerasRegressor\n",
    "from sklearn.model_selection import cross_val_score\n",
    "from sklearn.model_selection import KFold\n",
    "\n",
    "model = keras.models.Sequential([\n",
    "    keras.layers.Dense(30, activation = 'relu', input_shape = x_train_scaled.shape[1:]),\n",
    "    keras.layers.Dense(1)\n",
    "])\n",
    "\n",
    "model.compile(loss = 'mean_absolute_error', optimizer = 'sgd', metrics=[tf.keras.metrics.RootMeanSquaredError()])\n",
    "history = model.fit(x_train_scaled,y_train, batch_size = 64, epochs= 50, validation_data=(x_val_scaled, y_val))"
   ]
  },
  {
   "cell_type": "code",
   "execution_count": 640,
   "id": "ecdde879-420e-465f-9458-cfea1715415b",
   "metadata": {},
   "outputs": [
    {
     "data": {
      "text/plain": [
       "dict_keys(['loss', 'root_mean_squared_error', 'val_loss', 'val_root_mean_squared_error'])"
      ]
     },
     "execution_count": 640,
     "metadata": {},
     "output_type": "execute_result"
    }
   ],
   "source": [
    "history.history.keys()"
   ]
  },
  {
   "cell_type": "code",
   "execution_count": 641,
   "id": "f5d0f691-60ba-4b1a-abea-ed2fdc5bdcd1",
   "metadata": {},
   "outputs": [
    {
     "data": {
      "image/png": "[encoded data removed]",
      "text/plain": [
       "<Figure size 432x288 with 1 Axes>"
      ]
     },
     "metadata": {
      "needs_background": "light"
     },
     "output_type": "display_data"
    }
   ],
   "source": [
    "plt.plot(history.history['loss'])\n",
    "plt.plot(history.history['val_loss'])\n",
    "plt.title('mean absolute error for train and test')\n",
    "plt.ylabel('mean absolute error')\n",
    "plt.xlabel('epoch')\n",
    "plt.legend(['train','val'], loc = 'upper left')\n",
    "plt.show()"
   ]
  },
  {
   "cell_type": "markdown",
   "id": "8a271a2f-110b-4159-9e12-b038c45029eb",
   "metadata": {},
   "source": [
    "I can see that my model is over fitting. "
   ]
  },
  {
   "cell_type": "code",
   "execution_count": 642,
   "id": "e55f4279-1a12-4efd-8402-901a415bd693",
   "metadata": {},
   "outputs": [
    {
     "data": {
      "image/png": "[encoded data removed]",
      "text/plain": [
       "<Figure size 432x288 with 1 Axes>"
      ]
     },
     "metadata": {
      "needs_background": "light"
     },
     "output_type": "display_data"
    }
   ],
   "source": [
    "plt.plot(history.history['root_mean_squared_error'])\n",
    "plt.plot(history.history['val_root_mean_squared_error'])\n",
    "plt.title('mean absolute error for train and test')\n",
    "plt.ylabel('mean absolute error')\n",
    "plt.xlabel('epoch')\n",
    "plt.legend(['train','val'], loc = 'upper left')\n",
    "plt.show()"
   ]
  },
  {
   "cell_type": "markdown",
   "id": "bc9a9798-7665-4754-9bd9-ec81f7544cea",
   "metadata": {},
   "source": [
    "The model is overfitting"
   ]
  },
  {
   "cell_type": "markdown",
   "id": "55c9f908-b807-4ada-99be-4ac5676c8343",
   "metadata": {},
   "source": [
    "I chose the activatioon function ReLU in the hidden layer. It is a commonly used activation function where if the input x is negative, then a value 0 is returned. "
   ]
  },
  {
   "cell_type": "markdown",
   "id": "1b77160a-6f88-4f38-82c2-f556f09b1b17",
   "metadata": {},
   "source": [
    "We can penalize high errors with RMSE so we use rmse."
   ]
  },
  {
   "cell_type": "markdown",
   "id": "ce3f363e-3071-424a-be79-9609a1d6b0c4",
   "metadata": {},
   "source": [
    "By analysis, we find that compared with ADAM, SGD is more locally unstable and is more likely to converge to the minima at the flat or asymmetric basins/valleys which often have better generalization performance over other type minima. So our results can explain the better generalization performance of SGD over ADAM. SO i didnt use adams"
   ]
  },
  {
   "cell_type": "markdown",
   "id": "5a91389e-faed-47bf-961f-3c02e6128f05",
   "metadata": {},
   "source": [
    "Source: https://machinelearningmastery.com/choose-an-activation-function-for-deep-learning/"
   ]
  },
  {
   "cell_type": "code",
   "execution_count": 643,
   "id": "183e9557-1b8a-4545-bfb6-a315cda40f5a",
   "metadata": {},
   "outputs": [],
   "source": [
    "from sklearn.metrics import mean_squared_error\n",
    "from sklearn.metrics import r2_score\n",
    "# getting the metrics\n",
    "\n",
    "def metrics_for_mlp():\n",
    "    y_pred = model.predict(x_test_scaled).ravel()\n",
    "    rmse = mean_squared_error(y_test, y_pred, squared = False)\n",
    "    return rmse"
   ]
  },
  {
   "cell_type": "code",
   "execution_count": 644,
   "id": "7a394f6d-6a6e-4854-9749-fe3b0c2443f9",
   "metadata": {},
   "outputs": [
    {
     "name": "stdout",
     "output_type": "stream",
     "text": [
      "58/58 [==============================] - 0s 1ms/step\n"
     ]
    },
    {
     "data": {
      "text/plain": [
       "15.244735546180092"
      ]
     },
     "execution_count": 644,
     "metadata": {},
     "output_type": "execute_result"
    }
   ],
   "source": [
    "metrics_for_mlp()"
   ]
  },
  {
   "cell_type": "code",
   "execution_count": 647,
   "id": "4d478985-73b8-4031-8b92-79079f8ae6db",
   "metadata": {},
   "outputs": [],
   "source": [
    "metric_list.append(round(15.244735546180092,2))"
   ]
  },
  {
   "cell_type": "code",
   "execution_count": 654,
   "id": "9b5e2f96-1a0d-48ee-bc77-6f72a740240e",
   "metadata": {},
   "outputs": [
    {
     "data": {
      "text/html": [
       "<div>\n",
       "<style scoped>\n",
       "    .dataframe tbody tr th:only-of-type {\n",
       "        vertical-align: middle;\n",
       "    }\n",
       "\n",
       "    .dataframe tbody tr th {\n",
       "        vertical-align: top;\n",
       "    }\n",
       "\n",
       "    .dataframe thead th {\n",
       "        text-align: right;\n",
       "    }\n",
       "</style>\n",
       "<table border=\"1\" class=\"dataframe\">\n",
       "  <thead>\n",
       "    <tr style=\"text-align: right;\">\n",
       "      <th></th>\n",
       "      <th>Root Mean Square Error</th>\n",
       "    </tr>\n",
       "  </thead>\n",
       "  <tbody>\n",
       "    <tr>\n",
       "      <th>Lasso Regression</th>\n",
       "      <td>10.644606</td>\n",
       "    </tr>\n",
       "    <tr>\n",
       "      <th>Decision Tree Regressor</th>\n",
       "      <td>8.462659</td>\n",
       "    </tr>\n",
       "    <tr>\n",
       "      <th>Multilayer Perceptron</th>\n",
       "      <td>15.240000</td>\n",
       "    </tr>\n",
       "  </tbody>\n",
       "</table>\n",
       "</div>"
      ],
      "text/plain": [
       "                         Root Mean Square Error\n",
       "Lasso Regression                      10.644606\n",
       "Decision Tree Regressor                8.462659\n",
       "Multilayer Perceptron                 15.240000"
      ]
     },
     "execution_count": 654,
     "metadata": {},
     "output_type": "execute_result"
    }
   ],
   "source": [
    "result_df = pd.DataFrame(metric_list, index = ['Lasso Regression','Decision Tree Regressor','Multilayer Perceptron'], columns = ['Root Mean Square Error'])\n",
    "result_df"
   ]
  },
  {
   "cell_type": "markdown",
   "id": "e123d007-c1dd-4449-866d-94c375910d61",
   "metadata": {},
   "source": [
    "### Choosing the right model."
   ]
  },
  {
   "cell_type": "markdown",
   "id": "717d8879-6fbb-449b-aede-dfa378d1d6f6",
   "metadata": {},
   "source": [
    "Decision Tree Regressor is the best model. We can make further predictions with this model. "
   ]
  },
  {
   "cell_type": "code",
   "execution_count": 659,
   "id": "6baab000-2a3f-49e6-861a-4349c6e6db77",
   "metadata": {},
   "outputs": [
    {
     "name": "stdout",
     "output_type": "stream",
     "text": [
      "+-------------------+-----------------+\n",
      "|Economic Need Index|       prediction|\n",
      "+-------------------+-----------------+\n",
      "|               72.2|87.78229166666664|\n",
      "|               81.5|85.95297029702971|\n",
      "|               83.1|87.04999999999998|\n",
      "|               42.6|65.61724137931034|\n",
      "|               68.4|81.40434782608699|\n",
      "|               60.3|70.52857142857142|\n",
      "|               87.9|91.20856832971799|\n",
      "|               73.0|81.95116279069767|\n",
      "|               63.7|            77.03|\n",
      "|               81.0|85.95297029702971|\n",
      "|               66.7|             70.5|\n",
      "|               55.2|             50.1|\n",
      "|               54.0|80.06818181818183|\n",
      "|               88.1|91.20856832971799|\n",
      "|               82.6|85.95297029702971|\n",
      "|               78.3|87.78229166666664|\n",
      "|               82.1|85.95297029702971|\n",
      "|               68.6|55.74545454545455|\n",
      "|               64.9|81.40434782608699|\n",
      "|               91.3|88.15618279569892|\n",
      "+-------------------+-----------------+\n",
      "only showing top 20 rows\n",
      "\n"
     ]
    }
   ],
   "source": [
    "regressor_predictions.select('Economic Need Index','prediction').show()"
   ]
  },
  {
   "cell_type": "markdown",
   "id": "6cc606aa-2829-405f-b869-2bb39ad9118c",
   "metadata": {},
   "source": [
    "Even if we just briefly see the economic need index and the prediction, the values are roughly similiar to each other."
   ]
  },
  {
   "cell_type": "markdown",
   "id": "7963d5e4-60eb-48cb-a3cf-3d50a0453ef6",
   "metadata": {},
   "source": [
    "We can predict the economic need index by borough, year and a lot of other factors. Also, I can consider this Decision Tree Regressor a good model because the RSME is low"
   ]
  }
 ],
 "metadata": {
  "kernelspec": {
   "display_name": "Python 3 (ipykernel)",
   "language": "python",
   "name": "python3"
  },
  "language_info": {
   "codemirror_mode": {
    "name": "ipython",
    "version": 3
   },
   "file_extension": ".py",
   "mimetype": "text/x-python",
   "name": "python",
   "nbconvert_exporter": "python",
   "pygments_lexer": "ipython3",
   "version": "3.9.12"
  }
 },
 "nbformat": 4,
 "nbformat_minor": 5
}

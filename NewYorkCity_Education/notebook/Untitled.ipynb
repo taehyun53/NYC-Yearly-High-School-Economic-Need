{
 "cells": [
  {
   "cell_type": "markdown",
   "id": "6d0e17a0-a17e-4921-ba07-086c0a889e94",
   "metadata": {},
   "source": [
    "# Exploratory Data Analysis"
   ]
  },
  {
   "cell_type": "markdown",
   "id": "5aa765c1-c4cd-4cd5-8cf8-b7c265d2f9bd",
   "metadata": {},
   "source": [
    "# Import the data and call the data sheet"
   ]
  },
  {
   "cell_type": "code",
   "execution_count": null,
   "id": "6c0b99d6-8038-4b34-a9df-fc9267df6881",
   "metadata": {},
   "outputs": [],
   "source": [
    "import numpy as np\n",
    "import pandas as pd\n",
    "import seaborn as sns\n",
    "import matplotlib.pyplot as plt"
   ]
  },
  {
   "cell_type": "code",
   "execution_count": null,
   "id": "853a5140-0af1-4d35-af56-da431d16cabd",
   "metadata": {},
   "outputs": [],
   "source": []
  },
  {
   "cell_type": "code",
   "execution_count": null,
   "id": "d3a5c3f1-1dc8-40b0-a7ec-a4543091ad94",
   "metadata": {},
   "outputs": [],
   "source": [
    "print(\"Percent of Schools that are more than 50% poverty:\", len(df[df['% Poverty'] > 50]) / len(df) * 100)"
   ]
  },
  {
   "cell_type": "code",
   "execution_count": null,
   "id": "2f4d7637-04fb-403f-968e-02d4b1b03d3c",
   "metadata": {},
   "outputs": [],
   "source": [
    "print(\"Percent of Schools that are less than 50% poverty:\", len(df[df['% Poverty'] < 50]) / len(df) * 100)"
   ]
  },
  {
   "cell_type": "code",
   "execution_count": null,
   "id": "2fb7782d-a252-4717-9682-da20b8ee7db0",
   "metadata": {},
   "outputs": [],
   "source": [
    "df.groupby(['Year'])['# Poverty'].sum() / df.groupby(['Year'])['Total Enrollment'].sum() * 100"
   ]
  }
 ],
 "metadata": {
  "kernelspec": {
   "display_name": "Python 3 (ipykernel)",
   "language": "python",
   "name": "python3"
  },
  "language_info": {
   "codemirror_mode": {
    "name": "ipython",
    "version": 3
   },
   "file_extension": ".py",
   "mimetype": "text/x-python",
   "name": "python",
   "nbconvert_exporter": "python",
   "pygments_lexer": "ipython3",
   "version": "3.9.12"
  }
 },
 "nbformat": 4,
 "nbformat_minor": 5
}

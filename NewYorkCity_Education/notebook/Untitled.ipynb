{
 "cells": [
  {
   "cell_type": "code",
   "execution_count": 2,
   "id": "d4a6215f-64ef-474d-a47a-9d9a61e1dd63",
   "metadata": {},
   "outputs": [],
   "source": [
    "from sklearn.datasets import fetch_california_housing\n",
    "from sklearn.model_selection import train_test_split\n",
    "from sklearn.preprocessing import StandardScaler"
   ]
  },
  {
   "cell_type": "code",
   "execution_count": 3,
   "id": "4a86566e-8a21-4e57-afbd-b73b3574ac2c",
   "metadata": {},
   "outputs": [],
   "source": [
    "housing = fetch_california_housing()"
   ]
  },
  {
   "cell_type": "code",
   "execution_count": 5,
   "id": "fd38022d-12e2-4b6c-9104-4da4e841bd15",
   "metadata": {},
   "outputs": [
    {
     "data": {
      "text/plain": [
       "(20640, 8)"
      ]
     },
     "execution_count": 5,
     "metadata": {},
     "output_type": "execute_result"
    }
   ],
   "source": [
    "housing.data.shape"
   ]
  },
  {
   "cell_type": "code",
   "execution_count": 7,
   "id": "4659a1af-73a4-4562-adcd-65c896130903",
   "metadata": {},
   "outputs": [
    {
     "data": {
      "text/plain": [
       "array([[   8.3252    ,   41.        ,    6.98412698, ...,    2.55555556,\n",
       "          37.88      , -122.23      ],\n",
       "       [   8.3014    ,   21.        ,    6.23813708, ...,    2.10984183,\n",
       "          37.86      , -122.22      ],\n",
       "       [   7.2574    ,   52.        ,    8.28813559, ...,    2.80225989,\n",
       "          37.85      , -122.24      ],\n",
       "       ...,\n",
       "       [   1.7       ,   17.        ,    5.20554273, ...,    2.3256351 ,\n",
       "          39.43      , -121.22      ],\n",
       "       [   1.8672    ,   18.        ,    5.32951289, ...,    2.12320917,\n",
       "          39.43      , -121.32      ],\n",
       "       [   2.3886    ,   16.        ,    5.25471698, ...,    2.61698113,\n",
       "          39.37      , -121.24      ]])"
      ]
     },
     "execution_count": 7,
     "metadata": {},
     "output_type": "execute_result"
    }
   ],
   "source": [
    "housing.data"
   ]
  },
  {
   "cell_type": "code",
   "execution_count": 9,
   "id": "e913e0dc-a5e3-4b56-9546-160a1b91566f",
   "metadata": {},
   "outputs": [],
   "source": [
    "x_train_full, x_test, y_train_full, y_test = train_test_split(housing.data, housing.target)"
   ]
  },
  {
   "cell_type": "code",
   "execution_count": 14,
   "id": "62f6afb2-75f7-446f-8666-9562bc785c4b",
   "metadata": {},
   "outputs": [
    {
     "data": {
      "text/plain": [
       "(15480, 8)"
      ]
     },
     "execution_count": 14,
     "metadata": {},
     "output_type": "execute_result"
    }
   ],
   "source": [
    "x_train_full.shape"
   ]
  },
  {
   "cell_type": "code",
   "execution_count": 9,
   "id": "9389c9fe-5ab6-4e0e-83df-f5872298a718",
   "metadata": {},
   "outputs": [],
   "source": [
    "cpdomains = [\"9001 discuss.leetcode.com\"]\n",
    "\n",
    "num1=1\n",
    "num2=2\n",
    "num3=3\n",
    "myTuple=(num1,num2,num3)\n"
   ]
  },
  {
   "cell_type": "code",
   "execution_count": 10,
   "id": "122a26ad-8b1b-4aec-84df-555356550950",
   "metadata": {},
   "outputs": [
    {
     "data": {
      "text/plain": [
       "3"
      ]
     },
     "execution_count": 10,
     "metadata": {},
     "output_type": "execute_result"
    }
   ],
   "source": [
    "myNum"
   ]
  },
  {
   "cell_type": "code",
   "execution_count": 15,
   "id": "7e88c8a2-e41e-4f62-ba49-07b349ad51a3",
   "metadata": {},
   "outputs": [],
   "source": [
    "num1=1\n",
    "num2=2\n",
    "num3=3\n",
    "*num,=1,2,3"
   ]
  },
  {
   "cell_type": "code",
   "execution_count": 21,
   "id": "acec99a8-9fa8-42f7-9792-b7deae6cc9e4",
   "metadata": {},
   "outputs": [
    {
     "data": {
      "text/plain": [
       "[1, 2, 3]"
      ]
     },
     "execution_count": 21,
     "metadata": {},
     "output_type": "execute_result"
    }
   ],
   "source": [
    "num"
   ]
  },
  {
   "cell_type": "code",
   "execution_count": 23,
   "id": "f9d1a947-6579-4132-99e9-fa1492e67515",
   "metadata": {},
   "outputs": [],
   "source": [
    "name=\"Joseph Robinette Biden Jr\""
   ]
  },
  {
   "cell_type": "code",
   "execution_count": 24,
   "id": "6a8c8539-a95c-4036-a418-e906de04347b",
   "metadata": {},
   "outputs": [],
   "source": [
    "first_name, *rest_name = name.split()"
   ]
  },
  {
   "cell_type": "code",
   "execution_count": 26,
   "id": "b4747b73-0e74-4b6a-a5d9-85eb503fdfd9",
   "metadata": {},
   "outputs": [
    {
     "name": "stdout",
     "output_type": "stream",
     "text": [
      "First Tuple is:\n",
      "(1, 2, 3)\n"
     ]
    }
   ],
   "source": [
    "print(\"First Tuple is:\")\n",
    "tuple1=(1,2,3)\n",
    "print(tuple1)"
   ]
  },
  {
   "cell_type": "code",
   "execution_count": 27,
   "id": "a1f23e33-0cdd-45a2-83d7-e96b91f45c2b",
   "metadata": {},
   "outputs": [
    {
     "name": "stdout",
     "output_type": "stream",
     "text": [
      "Second Tuple is:\n",
      "(4, 5, 6)\n"
     ]
    }
   ],
   "source": [
    "print(\"Second Tuple is:\")\n",
    "tuple2=(4,5,6)\n",
    "print(tuple2)"
   ]
  },
  {
   "cell_type": "code",
   "execution_count": 28,
   "id": "85d281fc-1337-4fac-94e4-d8c56df9938c",
   "metadata": {},
   "outputs": [
    {
     "name": "stdout",
     "output_type": "stream",
     "text": [
      "(1, 2, 3, 4, 5, 6)\n"
     ]
    }
   ],
   "source": [
    "myTuple=(*tuple1,*tuple2)\n",
    "print(myTuple)"
   ]
  },
  {
   "cell_type": "code",
   "execution_count": 31,
   "id": "67afd124-1391-47ee-8157-2c8338f80219",
   "metadata": {},
   "outputs": [
    {
     "data": {
      "text/plain": [
       "(1, 2, 3)"
      ]
     },
     "execution_count": 31,
     "metadata": {},
     "output_type": "execute_result"
    }
   ],
   "source": [
    "tuple1"
   ]
  },
  {
   "cell_type": "code",
   "execution_count": 35,
   "id": "ef7f95d0-5ed8-41ed-b06d-8f03b6578ffa",
   "metadata": {},
   "outputs": [],
   "source": [
    "first_dictionary = {0:1,2:0,3:8}\n",
    "first_dictionary[0] =1"
   ]
  },
  {
   "cell_type": "code",
   "execution_count": 36,
   "id": "3b2eb1c2-40ee-4bff-a538-3b156dbbdbda",
   "metadata": {},
   "outputs": [
    {
     "data": {
      "text/plain": [
       "{0: 1, 2: 0, 3: 8}"
      ]
     },
     "execution_count": 36,
     "metadata": {},
     "output_type": "execute_result"
    }
   ],
   "source": [
    "first_dictionary"
   ]
  },
  {
   "cell_type": "code",
   "execution_count": 37,
   "id": "e74c7f53-cc4e-49b7-bff9-5f3ddfd88815",
   "metadata": {},
   "outputs": [
    {
     "name": "stdout",
     "output_type": "stream",
     "text": [
      "Second Dictionary is:\n",
      "{4: 16, 5: 25, 6: 36}\n"
     ]
    }
   ],
   "source": [
    "print(\"Second Dictionary is:\")\n",
    "dict2={4:16,5:25,6:36}\n",
    "print(dict2)"
   ]
  },
  {
   "cell_type": "code",
   "execution_count": 41,
   "id": "a7a97961-1be4-4fd1-a8e9-54e1ccd0189a",
   "metadata": {},
   "outputs": [
    {
     "ename": "SyntaxError",
     "evalue": "invalid syntax (1090469879.py, line 1)",
     "output_type": "error",
     "traceback": [
      "\u001b[0;36m  Input \u001b[0;32mIn [41]\u001b[0;36m\u001b[0m\n\u001b[0;31m    for i in **first_dictionary:\u001b[0m\n\u001b[0m             ^\u001b[0m\n\u001b[0;31mSyntaxError\u001b[0m\u001b[0;31m:\u001b[0m invalid syntax\n"
     ]
    }
   ],
   "source": [
    "for i in **first_dictionary:\n",
    "    print(i)"
   ]
  },
  {
   "cell_type": "code",
   "execution_count": 45,
   "id": "3e5cae3a-60e1-4e3e-bad9-d0554aa38425",
   "metadata": {},
   "outputs": [
    {
     "data": {
      "text/plain": [
       "False"
      ]
     },
     "execution_count": 45,
     "metadata": {},
     "output_type": "execute_result"
    }
   ],
   "source": [
    "lis = [1,2,3,4,5,6]"
   ]
  },
  {
   "cell_type": "code",
   "execution_count": 46,
   "id": "edc080b8-c974-4409-8561-19ff50725709",
   "metadata": {},
   "outputs": [],
   "source": [
    "def bifurcate(lst, filter):\n",
    "    \"\"\"\n",
    "    It takes a list and a filter, and returns a list of two lists, the first containing all the elements\n",
    "    of the original list that match the filter, and the second containing all the elements that don't\n",
    "\n",
    "    :param lst: The list to be bifurcated\n",
    "    :param filter: a list of boolean values\n",
    "    :return: A list of two lists. The first list contains all the elements of the original list that\n",
    "    correspond to a True value in the filter list. The second list contains all the elements of the\n",
    "    original list that correspond to a False value in the filter list.\n",
    "    \"\"\"\n",
    "    return [\n",
    "        [x for i, x in enumerate(lst) if filter[i] == True],\n",
    "        [x for i, x in enumerate(lst) if filter[i] == False]\n",
    "    ]"
   ]
  },
  {
   "cell_type": "code",
   "execution_count": 51,
   "id": "0d48863f-27c7-4ab5-85eb-2f2dbb917b5f",
   "metadata": {},
   "outputs": [],
   "source": [
    "a,b = [1,2,3,3], [4,2,3,3]"
   ]
  },
  {
   "cell_type": "code",
   "execution_count": 54,
   "id": "c36ed244-5c2a-4e5b-94f0-b70be330e07d",
   "metadata": {},
   "outputs": [
    {
     "data": {
      "text/plain": [
       "[1]"
      ]
     },
     "execution_count": 54,
     "metadata": {},
     "output_type": "execute_result"
    }
   ],
   "source": [
    "[item for item in a if item not in b]"
   ]
  },
  {
   "cell_type": "code",
   "execution_count": 60,
   "id": "7a5d184c-4607-4c78-a680-f8eebf54bb41",
   "metadata": {},
   "outputs": [
    {
     "data": {
      "text/plain": [
       "[2, 8, 16, 24]"
      ]
     },
     "execution_count": 60,
     "metadata": {},
     "output_type": "execute_result"
    }
   ],
   "source": [
    "def add(n):\n",
    "    return n+n\n",
    "\n",
    "numbers = [1,4,8,12]\n",
    "\n",
    "f=list(map(add, numbers))\n",
    "f"
   ]
  },
  {
   "cell_type": "code",
   "execution_count": 62,
   "id": "87ddbc56-2915-40d8-aada-382aef5995c1",
   "metadata": {},
   "outputs": [
    {
     "data": {
      "text/plain": [
       "[5, 7, 9]"
      ]
     },
     "execution_count": 62,
     "metadata": {},
     "output_type": "execute_result"
    }
   ],
   "source": [
    "numbers1 = [1,2,3]\n",
    "number2 = [4,5,6]\n",
    "\n",
    "result = list(map(lambda x, y: x+y, numbers1, number2))\n",
    "result"
   ]
  },
  {
   "cell_type": "code",
   "execution_count": null,
   "id": "80e754f1-92ca-487b-8273-5206cc76fdb0",
   "metadata": {},
   "outputs": [],
   "source": [
    "lambda x, y: x+y, numbers1, number2"
   ]
  },
  {
   "cell_type": "code",
   "execution_count": 66,
   "id": "b7d303a2-03b6-4f54-928b-2e9625d9472a",
   "metadata": {},
   "outputs": [],
   "source": [
    "def shuffle(lst):\n",
    "    l,r = 0,len(lst)-1\n",
    "    while l<r:\n",
    "        lst[l],lst[r] = lst[r],lst[l]\n",
    "        l+=1\n",
    "        r-=1\n",
    "    return lst\n",
    "    "
   ]
  },
  {
   "cell_type": "code",
   "execution_count": 68,
   "id": "dc91596a-9af3-492e-99e0-5848aea39b77",
   "metadata": {},
   "outputs": [],
   "source": [
    "strg='Hello World'"
   ]
  },
  {
   "cell_type": "code",
   "execution_count": 70,
   "id": "cda7d7a1-96e4-402b-a186-0db43376fc0e",
   "metadata": {},
   "outputs": [
    {
     "data": {
      "text/plain": [
       "b'Hello World'"
      ]
     },
     "execution_count": 70,
     "metadata": {},
     "output_type": "execute_result"
    }
   ],
   "source": [
    "strg.encode('utf-8')"
   ]
  },
  {
   "cell_type": "code",
   "execution_count": 73,
   "id": "b4fbdc5e-e63f-435e-8f42-8855a62d8040",
   "metadata": {},
   "outputs": [],
   "source": [
    "from itertools import product\n",
    "\n",
    "list_a = [1, 2020, 70]\n",
    "list_b = [2, 4, 7, 2000]\n",
    "list_c = [3, 70, 7]\n"
   ]
  },
  {
   "cell_type": "code",
   "execution_count": 75,
   "id": "69ac2f44-b54f-415b-9d85-e00f08944407",
   "metadata": {},
   "outputs": [
    {
     "name": "stdout",
     "output_type": "stream",
     "text": [
      "1 2 3\n",
      "1 2 70\n",
      "1 2 7\n",
      "1 4 3\n",
      "1 4 70\n",
      "1 4 7\n",
      "1 7 3\n",
      "1 7 70\n",
      "1 7 7\n",
      "1 2000 3\n",
      "1 2000 70\n",
      "1 2000 7\n",
      "2020 2 3\n",
      "2020 2 70\n",
      "2020 2 7\n",
      "2020 4 3\n",
      "2020 4 70\n",
      "2020 4 7\n",
      "2020 7 3\n",
      "2020 7 70\n",
      "2020 7 7\n",
      "2020 2000 3\n",
      "2020 2000 70\n",
      "2020 2000 7\n",
      "70 2 3\n",
      "70 2 70\n",
      "70 2 7\n",
      "70 4 3\n",
      "70 4 70\n",
      "70 4 7\n",
      "70 7 3\n",
      "70 7 70\n",
      "70 7 7\n",
      "70 2000 3\n",
      "70 2000 70\n",
      "70 2000 7\n"
     ]
    }
   ],
   "source": [
    "list_a = [1, 2020, 70]\n",
    "list_b = [2, 4, 7, 2000]\n",
    "list_c = [3, 70, 7]\n",
    "\n",
    "for a, b, c in product(list_a, list_b, list_c):\n",
    "    print(a,b,c)"
   ]
  },
  {
   "cell_type": "code",
   "execution_count": 76,
   "id": "a8972f80-6124-4aeb-96e6-78a3f8e8ec04",
   "metadata": {},
   "outputs": [],
   "source": [
    "fib = lambda x: x if x <= 1 else fib(x-1) + fib(x-2)"
   ]
  },
  {
   "cell_type": "code",
   "execution_count": 80,
   "id": "4ab5ec86-ef80-4b8c-8d8c-53566b11c498",
   "metadata": {},
   "outputs": [],
   "source": [
    "names = ['YaNG','Mask']\n",
    "\n",
    "names = map(str.capitalize, names)"
   ]
  },
  {
   "cell_type": "code",
   "execution_count": 81,
   "id": "06093f6f-1f0a-4c8d-a774-3cd7145c00bb",
   "metadata": {},
   "outputs": [
    {
     "data": {
      "text/plain": [
       "<map at 0x7fa941ee3370>"
      ]
     },
     "execution_count": 81,
     "metadata": {},
     "output_type": "execute_result"
    }
   ],
   "source": [
    "names"
   ]
  },
  {
   "cell_type": "code",
   "execution_count": 82,
   "id": "d33ee5b6-0c6a-4234-b979-9b7cd6749411",
   "metadata": {},
   "outputs": [
    {
     "data": {
      "text/plain": [
       "['Yang', 'Mask']"
      ]
     },
     "execution_count": 82,
     "metadata": {},
     "output_type": "execute_result"
    }
   ],
   "source": [
    "list(names)"
   ]
  },
  {
   "cell_type": "code",
   "execution_count": 83,
   "id": "5a1a1400-9d23-40c2-aa6c-e5cdd5cd74de",
   "metadata": {},
   "outputs": [
    {
     "data": {
      "text/plain": [
       "'London'"
      ]
     },
     "execution_count": 83,
     "metadata": {},
     "output_type": "execute_result"
    }
   ],
   "source": [
    "from functools import reduce\n",
    "\n",
    "city = ['L','o','n','d','o','n']\n",
    "city_to_str = reduce(lambda x, y:str(x)+str(y), city)\n",
    "city_to_str"
   ]
  },
  {
   "cell_type": "code",
   "execution_count": 85,
   "id": "994fcb74-e56c-4835-8749-3192699506f9",
   "metadata": {},
   "outputs": [],
   "source": [
    "cities_us = {'NY':'US','LA':'US'}\n",
    "cities_uk = {'London':'UK','Birmingham':'UK'}\n",
    "\n",
    "cities_us|=cities_uk"
   ]
  },
  {
   "cell_type": "code",
   "execution_count": 86,
   "id": "ee5fe5b3-42d6-4864-b979-786f9221c2ac",
   "metadata": {},
   "outputs": [
    {
     "name": "stdout",
     "output_type": "stream",
     "text": [
      "{'NY': 'US', 'LA': 'US', 'London': 'UK', 'Birmingham': 'UK'}\n"
     ]
    }
   ],
   "source": [
    "print(cities_us)"
   ]
  },
  {
   "cell_type": "code",
   "execution_count": 180,
   "id": "c960ad9f-6676-4378-bc3f-8fa2fcbc7fa4",
   "metadata": {},
   "outputs": [
    {
     "data": {
      "text/plain": [
       "Counter()"
      ]
     },
     "execution_count": 180,
     "metadata": {},
     "output_type": "execute_result"
    }
   ],
   "source": [
    "from collections import Counter \n",
    "cpdomains = [\"900 google.mail.com\", \"50 yahoo.com\", \"1 intel.mail.com\", \"5 wiki.org\"]\n",
    "\n",
    "\n",
    "counter = Counter()\n",
    "counter"
   ]
  },
  {
   "cell_type": "code",
   "execution_count": 157,
   "id": "ee636e91-edd6-4f8f-a096-b5415d52d894",
   "metadata": {},
   "outputs": [
    {
     "name": "stdout",
     "output_type": "stream",
     "text": [
      "['900 google.mail.com', '901 mail.com', '951 com', '50 yahoo.com', '1 intel.mail.com', '5 wiki.org', '5 org']\n"
     ]
    }
   ],
   "source": [
    "for cpdomain in cpdomains:\n",
    "    count, *domains= cpdomain.replace(\" \",\".\").split('.')\n",
    "    for i in range(len(domains)):\n",
    "        counter[\".\".join(domains[i:])] += int(count)\n",
    "print([\" \".join((str(v),k)) for k,v in counter.items()])\n",
    "            \n",
    "            \n",
    "        "
   ]
  },
  {
   "cell_type": "code",
   "execution_count": 181,
   "id": "0d67423e-ff3e-4bea-bb57-b3c13bdd7ec5",
   "metadata": {},
   "outputs": [
    {
     "ename": "TypeError",
     "evalue": "str.join() takes exactly one argument (2 given)",
     "output_type": "error",
     "traceback": [
      "\u001b[0;31m---------------------------------------------------------------------------\u001b[0m",
      "\u001b[0;31mTypeError\u001b[0m                                 Traceback (most recent call last)",
      "Input \u001b[0;32mIn [181]\u001b[0m, in \u001b[0;36m<cell line: 6>\u001b[0;34m()\u001b[0m\n\u001b[1;32m      3\u001b[0m     \u001b[38;5;28;01mfor\u001b[39;00m i \u001b[38;5;129;01min\u001b[39;00m \u001b[38;5;28mrange\u001b[39m(\u001b[38;5;28mlen\u001b[39m(domains)):\n\u001b[1;32m      4\u001b[0m         counter[\u001b[38;5;124m\"\u001b[39m\u001b[38;5;124m.\u001b[39m\u001b[38;5;124m\"\u001b[39m\u001b[38;5;241m.\u001b[39mjoin(domains[i:])] \u001b[38;5;241m+\u001b[39m\u001b[38;5;241m=\u001b[39m \u001b[38;5;28mint\u001b[39m(count)\n\u001b[0;32m----> 6\u001b[0m [\u001b[38;5;124m'\u001b[39m\u001b[38;5;124m'\u001b[39m\u001b[38;5;241m.\u001b[39mjoin(\u001b[38;5;28mstr\u001b[39m(v),k) \u001b[38;5;28;01mfor\u001b[39;00m k,v \u001b[38;5;129;01min\u001b[39;00m counter\u001b[38;5;241m.\u001b[39mitems()]\n",
      "Input \u001b[0;32mIn [181]\u001b[0m, in \u001b[0;36m<listcomp>\u001b[0;34m(.0)\u001b[0m\n\u001b[1;32m      3\u001b[0m     \u001b[38;5;28;01mfor\u001b[39;00m i \u001b[38;5;129;01min\u001b[39;00m \u001b[38;5;28mrange\u001b[39m(\u001b[38;5;28mlen\u001b[39m(domains)):\n\u001b[1;32m      4\u001b[0m         counter[\u001b[38;5;124m\"\u001b[39m\u001b[38;5;124m.\u001b[39m\u001b[38;5;124m\"\u001b[39m\u001b[38;5;241m.\u001b[39mjoin(domains[i:])] \u001b[38;5;241m+\u001b[39m\u001b[38;5;241m=\u001b[39m \u001b[38;5;28mint\u001b[39m(count)\n\u001b[0;32m----> 6\u001b[0m [\u001b[38;5;124;43m'\u001b[39;49m\u001b[38;5;124;43m'\u001b[39;49m\u001b[38;5;241;43m.\u001b[39;49m\u001b[43mjoin\u001b[49m\u001b[43m(\u001b[49m\u001b[38;5;28;43mstr\u001b[39;49m\u001b[43m(\u001b[49m\u001b[43mv\u001b[49m\u001b[43m)\u001b[49m\u001b[43m,\u001b[49m\u001b[43mk\u001b[49m\u001b[43m)\u001b[49m \u001b[38;5;28;01mfor\u001b[39;00m k,v \u001b[38;5;129;01min\u001b[39;00m counter\u001b[38;5;241m.\u001b[39mitems()]\n",
      "\u001b[0;31mTypeError\u001b[0m: str.join() takes exactly one argument (2 given)"
     ]
    }
   ],
   "source": [
    "for cpdomain in cpdomains:\n",
    "    count, *domains= cpdomain.replace(\" \",\".\").split('.')\n",
    "    for i in range(len(domains)):\n",
    "        counter[\".\".join(domains[i:])] += int(count)\n",
    "        \n",
    "[''.join((str(v),k)) for k,v in counter.items()]"
   ]
  },
  {
   "cell_type": "code",
   "execution_count": 147,
   "id": "090c030b-1dff-4ea4-83cf-7ee6ba5eb0e7",
   "metadata": {},
   "outputs": [],
   "source": [
    "counter['com'] = counter['com'] + int(900)"
   ]
  },
  {
   "cell_type": "code",
   "execution_count": 148,
   "id": "d40afce4-4548-4f6b-821e-73094985d5f1",
   "metadata": {},
   "outputs": [
    {
     "data": {
      "text/plain": [
       "Counter({'com': 900})"
      ]
     },
     "execution_count": 148,
     "metadata": {},
     "output_type": "execute_result"
    }
   ],
   "source": [
    "counter"
   ]
  },
  {
   "cell_type": "code",
   "execution_count": 131,
   "id": "bdaa8e41-3350-4f6d-b441-6109a55eefee",
   "metadata": {},
   "outputs": [
    {
     "data": {
      "text/plain": [
       "Counter({'green': 1})"
      ]
     },
     "execution_count": 131,
     "metadata": {},
     "output_type": "execute_result"
    }
   ],
   "source": [
    "counter"
   ]
  },
  {
   "cell_type": "code",
   "execution_count": 132,
   "id": "fcd791a6-0336-4fc7-9b67-c311fe687be2",
   "metadata": {},
   "outputs": [],
   "source": [
    "cnt = Counter()\n",
    "\n",
    "for word in ['red', 'blue', 'red', 'green', 'blue', 'blue']:\n",
    "    cnt[word] += 1"
   ]
  },
  {
   "cell_type": "code",
   "execution_count": 133,
   "id": "77a9c83d-1797-4255-80a9-0b24b6f741d9",
   "metadata": {},
   "outputs": [
    {
     "data": {
      "text/plain": [
       "Counter({'red': 2, 'blue': 3, 'green': 1})"
      ]
     },
     "execution_count": 133,
     "metadata": {},
     "output_type": "execute_result"
    }
   ],
   "source": [
    "cnt"
   ]
  },
  {
   "cell_type": "code",
   "execution_count": 134,
   "id": "32debe5f-f8cb-4a85-ab1f-876607321568",
   "metadata": {},
   "outputs": [
    {
     "ename": "FileNotFoundError",
     "evalue": "[Errno 2] No such file or directory: 'hamlet.txt'",
     "output_type": "error",
     "traceback": [
      "\u001b[0;31m---------------------------------------------------------------------------\u001b[0m",
      "\u001b[0;31mFileNotFoundError\u001b[0m                         Traceback (most recent call last)",
      "Input \u001b[0;32mIn [134]\u001b[0m, in \u001b[0;36m<cell line: 3>\u001b[0;34m()\u001b[0m\n\u001b[1;32m      1\u001b[0m \u001b[38;5;28;01mimport\u001b[39;00m \u001b[38;5;21;01mre\u001b[39;00m\n\u001b[0;32m----> 3\u001b[0m words \u001b[38;5;241m=\u001b[39m re\u001b[38;5;241m.\u001b[39mfindall(\u001b[38;5;124mr\u001b[39m\u001b[38;5;124m'\u001b[39m\u001b[38;5;124m\\\u001b[39m\u001b[38;5;124mw+\u001b[39m\u001b[38;5;124m'\u001b[39m, \u001b[38;5;28;43mopen\u001b[39;49m\u001b[43m(\u001b[49m\u001b[38;5;124;43m'\u001b[39;49m\u001b[38;5;124;43mhamlet.txt\u001b[39;49m\u001b[38;5;124;43m'\u001b[39;49m\u001b[43m)\u001b[49m\u001b[38;5;241m.\u001b[39mread()\u001b[38;5;241m.\u001b[39mlower())\n\u001b[1;32m      4\u001b[0m Counter(words)\u001b[38;5;241m.\u001b[39mmost_common(\u001b[38;5;241m10\u001b[39m)\n",
      "\u001b[0;31mFileNotFoundError\u001b[0m: [Errno 2] No such file or directory: 'hamlet.txt'"
     ]
    }
   ],
   "source": [
    "import re\n",
    "\n",
    "words = re.findall(r'\\w+', open('hamlet.txt').read().lower())\n",
    "Counter(words).most_common(10)"
   ]
  },
  {
   "cell_type": "code",
   "execution_count": 135,
   "id": "4f88b31e-28e6-4cff-b165-27a11d3d05d4",
   "metadata": {},
   "outputs": [
    {
     "data": {
      "text/plain": [
       "Counter({'cats': 4, 'dogs': 8})"
      ]
     },
     "execution_count": 135,
     "metadata": {},
     "output_type": "execute_result"
    }
   ],
   "source": [
    "c = Counter(cats=4, dogs=8)   \n",
    "c"
   ]
  },
  {
   "cell_type": "code",
   "execution_count": 136,
   "id": "bb4214c6-4461-49d4-8449-d7f3c14a1601",
   "metadata": {},
   "outputs": [],
   "source": [
    "from collections import deque"
   ]
  },
  {
   "cell_type": "code",
   "execution_count": 140,
   "id": "3e1cbdad-ea03-451e-82b1-932c4fe2b076",
   "metadata": {},
   "outputs": [
    {
     "ename": "AttributeError",
     "evalue": "'str' object has no attribute 'pop'",
     "output_type": "error",
     "traceback": [
      "\u001b[0;31m---------------------------------------------------------------------------\u001b[0m",
      "\u001b[0;31mAttributeError\u001b[0m                            Traceback (most recent call last)",
      "Input \u001b[0;32mIn [140]\u001b[0m, in \u001b[0;36m<cell line: 2>\u001b[0;34m()\u001b[0m\n\u001b[1;32m      2\u001b[0m \u001b[38;5;28;01mfor\u001b[39;00m elem \u001b[38;5;129;01min\u001b[39;00m d:\n\u001b[1;32m      3\u001b[0m     \u001b[38;5;28;01mif\u001b[39;00m elem \u001b[38;5;241m==\u001b[39m \u001b[38;5;124m'\u001b[39m\u001b[38;5;124mh\u001b[39m\u001b[38;5;124m'\u001b[39m:\n\u001b[0;32m----> 4\u001b[0m         \u001b[43melem\u001b[49m\u001b[38;5;241;43m.\u001b[39;49m\u001b[43mpop\u001b[49m()\n",
      "\u001b[0;31mAttributeError\u001b[0m: 'str' object has no attribute 'pop'"
     ]
    }
   ],
   "source": [
    "d = deque('ghi')\n",
    "for elem in d:\n",
    "    if elem == 'h':\n",
    "        elem.pop()"
   ]
  },
  {
   "cell_type": "code",
   "execution_count": 183,
   "id": "52a60346-8cf9-4806-b724-609d15554be7",
   "metadata": {},
   "outputs": [
    {
     "name": "stdout",
     "output_type": "stream",
     "text": [
      "   Courses      Fee Duration  Discount\n",
      "0    Spark  22000.3   30days   1000.10\n",
      "1  PySpark  25000.4   50days   2300.15\n"
     ]
    }
   ],
   "source": [
    "import pandas as pd\n",
    "technologies= {\n",
    "    'Courses':[\"Spark\",\"PySpark\"],\n",
    "    'Fee' :[22000.30,25000.40],\n",
    "    'Duration':['30days','50days'],\n",
    "    'Discount':[1000.10,2300.15]\n",
    "          }\n",
    "df = pd.DataFrame(technologies)\n",
    "print(df)"
   ]
  },
  {
   "cell_type": "code",
   "execution_count": 188,
   "id": "4c607216-e92b-4462-ac82-c502fe3f9bad",
   "metadata": {},
   "outputs": [
    {
     "data": {
      "text/plain": [
       "['Courses', 'Fee', 'Duration', 'Discount']"
      ]
     },
     "execution_count": 188,
     "metadata": {},
     "output_type": "execute_result"
    }
   ],
   "source": [
    "temp_cols = df.columns.tolist()\n",
    "temp_cols"
   ]
  },
  {
   "cell_type": "code",
   "execution_count": 187,
   "id": "c49e4fa6-c44c-4b74-bd2a-cbcdc05844cd",
   "metadata": {},
   "outputs": [
    {
     "data": {
      "text/plain": [
       "['Fee', 'Duration', 'Discount', 'Courses']"
      ]
     },
     "execution_count": 187,
     "metadata": {},
     "output_type": "execute_result"
    }
   ],
   "source": [
    "new_cols = temp_cols[1:] + temp_cols[0:1]"
   ]
  },
  {
   "cell_type": "code",
   "execution_count": 1,
   "id": "b2fb1668-4043-46fb-810d-6bc525b03eaa",
   "metadata": {},
   "outputs": [],
   "source": [
    "comb=[]\n",
    "\n",
    "comb.append(4)\n"
   ]
  },
  {
   "cell_type": "code",
   "execution_count": 3,
   "id": "2d8f7178-89a6-4300-8e72-7a97ce226abb",
   "metadata": {},
   "outputs": [
    {
     "data": {
      "text/plain": [
       "4"
      ]
     },
     "execution_count": 3,
     "metadata": {},
     "output_type": "execute_result"
    }
   ],
   "source": [
    "comb.pop()"
   ]
  },
  {
   "cell_type": "code",
   "execution_count": 23,
   "id": "c6e7437f-5b8b-4d4c-ad62-1e686bd8ac5f",
   "metadata": {},
   "outputs": [],
   "source": [
    "class Solution:\n",
    "    def combine(self, n, k):\n",
    "        res = []\n",
    "        def backtrack(start,comb):\n",
    "            if len(comb) == k:\n",
    "                res.append(comb.copy())\n",
    "                return\n",
    "            for i in range(start, n+1):\n",
    "                comb.append(i)\n",
    "                backtrack(i+1,comb)\n",
    "        \n",
    "        return res\n",
    "                "
   ]
  },
  {
   "cell_type": "code",
   "execution_count": 24,
   "id": "7f45e471-87b5-4d0e-91d8-2a64cdf41637",
   "metadata": {},
   "outputs": [],
   "source": [
    "a = Solution()"
   ]
  },
  {
   "cell_type": "code",
   "execution_count": 21,
   "id": "46a505cd-157b-4e13-a1b4-deb81d3969ec",
   "metadata": {},
   "outputs": [
    {
     "data": {
      "text/plain": [
       "[]"
      ]
     },
     "execution_count": 21,
     "metadata": {},
     "output_type": "execute_result"
    }
   ],
   "source": [
    "a.combine(4,2)"
   ]
  },
  {
   "cell_type": "code",
   "execution_count": 39,
   "id": "87228899-92a7-44ea-b48f-37aaebcd066d",
   "metadata": {},
   "outputs": [],
   "source": [
    "counter =0\n",
    "\n",
    "def inception():\n",
    "    print(counter)\n",
    "    if counter > 3:\n",
    "        return 'done'\n",
    "    counter += 1\n",
    "    return inception()"
   ]
  },
  {
   "cell_type": "code",
   "execution_count": 42,
   "id": "c6883996-4091-49e2-adf3-5bf31e2784fd",
   "metadata": {},
   "outputs": [
    {
     "data": {
      "text/plain": [
       "1"
      ]
     },
     "execution_count": 42,
     "metadata": {},
     "output_type": "execute_result"
    }
   ],
   "source": [
    "def factorial(n):\n",
    "    if n == 1:\n",
    "        return 1\n",
    "    \n",
    "    return factorial(n-1)\n",
    "\n",
    "\n",
    "factorial(5)\n",
    "    \n",
    "    \n",
    "    "
   ]
  },
  {
   "cell_type": "code",
   "execution_count": 45,
   "id": "c95699a5-8acb-4968-b897-ec93084c8a5f",
   "metadata": {},
   "outputs": [
    {
     "data": {
      "text/plain": [
       "120"
      ]
     },
     "execution_count": 57,
     "metadata": {},
     "output_type": "execute_result"
    }
   ],
   "source": [
    "def factorial(n):\n",
    "    result = 1\n",
    "    if n > 1\n",
    "        for i in list(range(n,0,-1)):\n",
    "            return result = i*result\n",
    "\n",
    "\n",
    "    \n",
    "factorial(5)\n",
    "        \n",
    "        \n",
    "        \n",
    "    \n",
    "    "
   ]
  },
  {
   "cell_type": "code",
   "execution_count": 47,
   "id": "6943db6f-eeff-485d-a03d-859f0290c599",
   "metadata": {},
   "outputs": [
    {
     "name": "stdout",
     "output_type": "stream",
     "text": [
      "1\n",
      "2\n",
      "3\n",
      "4\n",
      "5\n"
     ]
    }
   ],
   "source": [
    "list(range(5,1,-1))"
   ]
  },
  {
   "cell_type": "code",
   "execution_count": 59,
   "id": "0c29a7d3-d53b-4079-8d2d-f20f390e9f6d",
   "metadata": {},
   "outputs": [
    {
     "data": {
      "text/plain": [
       "120"
      ]
     },
     "execution_count": 59,
     "metadata": {},
     "output_type": "execute_result"
    }
   ],
   "source": [
    "def while_loop(n):\n",
    "    result = 1\n",
    "    while n > 1:\n",
    "        result = result * n\n",
    "        n-=1\n",
    "    return result\n",
    "\n",
    "\n",
    "while_loop(5)\n"
   ]
  },
  {
   "cell_type": "code",
   "execution_count": 61,
   "id": "88185870-2098-4b7d-95a8-dcfe90b75ac2",
   "metadata": {},
   "outputs": [
    {
     "data": {
      "text/plain": [
       "120"
      ]
     },
     "execution_count": 61,
     "metadata": {},
     "output_type": "execute_result"
    }
   ],
   "source": [
    "def recursive_way(n):\n",
    "    if n == 1:\n",
    "        return 1\n",
    "    else:\n",
    "        return n * recursive_way(n-1)\n",
    "    \n",
    "recursive_way(5)"
   ]
  },
  {
   "cell_type": "code",
   "execution_count": 62,
   "id": "9b40b65f-2697-47c0-a442-b1fcc6aa9b84",
   "metadata": {},
   "outputs": [
    {
     "data": {
      "text/plain": [
       "(1, 1, 2, 3, 5, 8, 13)"
      ]
     },
     "execution_count": 62,
     "metadata": {},
     "output_type": "execute_result"
    }
   ],
   "source": [
    "1,1,2,3,5,8,13\n"
   ]
  },
  {
   "cell_type": "code",
   "execution_count": null,
   "id": "97faaf07-bfa4-4ecb-b5fa-eadbfd0a3034",
   "metadata": {},
   "outputs": [],
   "source": []
  }
 ],
 "metadata": {
  "kernelspec": {
   "display_name": "Python 3 (ipykernel)",
   "language": "python",
   "name": "python3"
  },
  "language_info": {
   "codemirror_mode": {
    "name": "ipython",
    "version": 3
   },
   "file_extension": ".py",
   "mimetype": "text/x-python",
   "name": "python",
   "nbconvert_exporter": "python",
   "pygments_lexer": "ipython3",
   "version": "3.9.12"
  }
 },
 "nbformat": 4,
 "nbformat_minor": 5
}
